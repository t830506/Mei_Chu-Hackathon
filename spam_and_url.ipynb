{
 "cells": [
  {
   "cell_type": "markdown",
   "metadata": {},
   "source": [
    "### spam"
   ]
  },
  {
   "cell_type": "code",
   "execution_count": 1,
   "metadata": {
    "collapsed": true
   },
   "outputs": [],
   "source": [
    "import os\n",
    "import pickle\n",
    "import numpy as np\n",
    "from collections import Counter\n",
    "\n",
    "N = 33716 #5172\n",
    "\n",
    "def make_Dictionary(root_dir):\n",
    "    emails_dirs = [os.path.join(root_dir,f) for f in os.listdir(root_dir)]    \n",
    "    all_words = []       \n",
    "    for emails_dir in emails_dirs:\n",
    "        dirs = [os.path.join(emails_dir,f) for f in os.listdir(emails_dir)]\n",
    "        for d in dirs:\n",
    "            emails = [os.path.join(d,f) for f in os.listdir(d)]\n",
    "            for mail in emails:\n",
    "                with open(mail, encoding = 'ISO-8859-1') as m:\n",
    "                    for line in m:\n",
    "                        words = line.split()\n",
    "                        all_words += words\n",
    "    dictionary = Counter(all_words)\n",
    "    list_to_remove = dictionary.keys()\n",
    "    \n",
    "    for item in list(dictionary):\n",
    "        if item.isalpha() == False: \n",
    "            del dictionary[item]\n",
    "        elif len(item) == 1:\n",
    "            del dictionary[item]\n",
    "    dictionary = dictionary.most_common(3000)\n",
    "    \n",
    "    np.save('dict_enron.npy',dictionary) \n",
    "    \n",
    "    return dictionary\n",
    "\n",
    "def extract_features_realdata(root_dir):\n",
    "    emails = [os.path.join(root_dir,f) for f in os.listdir(root_dir)]  \n",
    "    docID = 0\n",
    "    features_matrix = np.zeros((len(emails),3000))\n",
    "    for mail in emails:\n",
    "        print (mail)\n",
    "        with open(mail, encoding = 'ISO-8859-1') as m:\n",
    "            all_words = []\n",
    "            for line in m:\n",
    "                words = line.split()\n",
    "                all_words += words\n",
    "                for word in all_words:\n",
    "                    wordID = 0\n",
    "                    for i,d in enumerate(dictionary):\n",
    "                        if d[0] == word:\n",
    "                            wordID = i\n",
    "                            features_matrix[docID,wordID] = all_words.count(word)\n",
    "        docID = docID + 1                \n",
    "    return features_matrix"
   ]
  },
  {
   "cell_type": "code",
   "execution_count": 2,
   "metadata": {
    "collapsed": true
   },
   "outputs": [],
   "source": [
    "dictionary = np.load('dictionary.npy')"
   ]
  },
  {
   "cell_type": "code",
   "execution_count": 3,
   "metadata": {
    "collapsed": true
   },
   "outputs": [],
   "source": [
    "# load the model from disk\n",
    "filename = 'spam_model.sav'\n",
    "\n",
    "loaded_model = pickle.load(open(filename, 'rb'))"
   ]
  },
  {
   "cell_type": "code",
   "execution_count": 4,
   "metadata": {},
   "outputs": [
    {
     "name": "stdout",
     "output_type": "stream",
     "text": [
      "test\\Sample_000001_00000211.txt\n",
      "(1, 3000)\n"
     ]
    }
   ],
   "source": [
    "real_dir = \"test\"\n",
    "real_matrix = extract_features_realdata(real_dir)\n",
    "print (real_matrix.shape)"
   ]
  },
  {
   "cell_type": "code",
   "execution_count": 5,
   "metadata": {},
   "outputs": [
    {
     "name": "stdout",
     "output_type": "stream",
     "text": [
      "[ 1.]\n"
     ]
    }
   ],
   "source": [
    "loaded_model = pickle.load(open(filename, 'rb'))\n",
    "result = loaded_model.predict(real_matrix)\n",
    "print(result)"
   ]
  },
  {
   "cell_type": "markdown",
   "metadata": {},
   "source": [
    "### URL"
   ]
  },
  {
   "cell_type": "code",
   "execution_count": 6,
   "metadata": {
    "collapsed": true
   },
   "outputs": [],
   "source": [
    "# load the classification model from disk\n",
    "filename = 'url_malicious_model.sav'\n",
    "\n",
    "loaded_model = pickle.load(open(filename, 'rb'))"
   ]
  },
  {
   "cell_type": "code",
   "execution_count": 7,
   "metadata": {
    "collapsed": true
   },
   "outputs": [],
   "source": [
    "# load the tfidf model from disk\n",
    "filename1 = 'url_tfidf_model.sav'\n",
    "\n",
    "loaded_model1 = pickle.load(open(filename1, 'rb'))"
   ]
  },
  {
   "cell_type": "code",
   "execution_count": 8,
   "metadata": {},
   "outputs": [
    {
     "name": "stdout",
     "output_type": "stream",
     "text": [
      "cost time : 0.03509259223937988\n",
      "[0 0 0 1 1 1 1]\n"
     ]
    }
   ],
   "source": [
    "import time\n",
    "\n",
    "t0 = time.time()\n",
    "\n",
    "X_real = [\"wikipedia.com\",\n",
    "          \"google.com/search=faizanahmad\",\n",
    "          \"pakistanifacebookforever.com/getpassword.php/\",\n",
    "          \"www.radsport-voggel.de/wp-admin/includes/log.exe\",\n",
    "          \"ahrenhei.without-transfer.ru/nethost.exe\",\n",
    "          \"www.itidea.it/centroesteticosothys/img/_notes/gum.exe\",\n",
    "          \"xn--cgopolygon-wy2e.com/login.php\"]\n",
    "\n",
    "X_real = loaded_model1.transform(X_real)\n",
    "y_real = loaded_model.predict(X_real)\n",
    "\n",
    "t1 = time.time()\n",
    "print (\"cost time :\", t1-t0)\n",
    "print (y_real)"
   ]
  },
  {
   "cell_type": "markdown",
   "metadata": {
    "collapsed": true
   },
   "source": [
    "### fraud"
   ]
  },
  {
   "cell_type": "code",
   "execution_count": 10,
   "metadata": {
    "collapsed": true
   },
   "outputs": [],
   "source": [
    "import os\n",
    "import re\n",
    "import csv\n",
    "import glob\n",
    "import operator\n",
    "import collections\n",
    "import numpy as np\n",
    "from collections import Counter\n"
   ]
  },
  {
   "cell_type": "code",
   "execution_count": 11,
   "metadata": {},
   "outputs": [
    {
     "name": "stdout",
     "output_type": "stream",
     "text": [
      "keywordmatrix\\0001.1999-12-10.farmer.ham.txt\n",
      "size of letter : 254\n"
     ]
    }
   ],
   "source": [
    "# split word to ( , )\n",
    "\n",
    "train_dir = 'keywordmatrix'\n",
    "\n",
    "name_list = os.listdir(train_dir)\n",
    "full_list = [os.path.join(train_dir,i) for i in name_list]\n",
    "time_sorted_list = sorted(full_list, key=os.path.getctime)\n",
    "print(time_sorted_list[-1])\n",
    "\n",
    "all_words = []\n",
    "for email in time_sorted_list:\n",
    "    with open(email, encoding = 'ISO-8859-1') as m:\n",
    "        a = []\n",
    "        for i,line in enumerate(m):\n",
    "            if i != 1:\n",
    "                words_ = line\n",
    "                pattern3 = re.compile(\"[^\\w\\d]+\")\n",
    "                words_ = pattern3.sub(' ',words_)\n",
    "                words = words_.split()\n",
    "                for j in range(len(words)):\n",
    "                    a.append(words[j])\n",
    "    all_words.append(a)\n",
    "print ('size of letter :', len(all_words))"
   ]
  },
  {
   "cell_type": "code",
   "execution_count": 12,
   "metadata": {
    "collapsed": true
   },
   "outputs": [],
   "source": [
    "import numpy as np\n",
    "\n",
    "np.save('keywordmatrix.npy', all_words)\n",
    "\n",
    "cut_programs = np.load('keywordmatrix.npy')\n",
    "\n",
    "voc_dict = np.load('keyword_voc_dict.npy')"
   ]
  },
  {
   "cell_type": "code",
   "execution_count": 13,
   "metadata": {},
   "outputs": [
    {
     "name": "stdout",
     "output_type": "stream",
     "text": [
      "com body font 14px 20px Helvetica Arial sans serif margin padding text align center webkit text size adjust none p padding 10px h1 img max 100 height auto vertical align bottom h2 font size 22px line height 28px margin 12px h3 margin 12px background none padding border none wrapper 600px margin auto 10px auto text align left input button border none button display inline block font weight 500 font size 16px line height 42px font family Helvetica Arial sans serif auto white space nowrap height 42px margin 12px 5px 12px padding 22px text decoration none text align center cursor pointer border border radius 3px vertical align top button span display inline font family Helvetica Arial sans serif text decoration none font weight 500 font style normal font size 16px line height 42px cursor pointer border none border radius 6px poweredWrapper padding 20px margin auto display block span display inline block height 32px line height 32px padding 5px margin 5px 5px clear clear both profile list display block margin 15px 20px padding list style none border top 1px solid eee profile list li display block margin padding 5px border bottom 1px solid eee html dir rtl wrapper html dir rtl container html dir rtl label text align right html dir rtl ul interestgroup_field label padding html dir rtl ul interestgroup_field input margin left 5px html dir rtl hidden view right left auto body bodyTable background color h1 font size 28px line height 110 margin bottom 30px margin top padding templateContainer background color none templateBody background color ffffff bodyContent line height 150 font family Helvetica font size 14px color 333333 padding 20px link active visited color button link button active button visited button button span background color 5d5d5d color ffffff button hover background color 444444 color ffffff label line height 150 font family Helvetica font size 16px color 5d5d5d field group input select font family Helvetica color 5d5d5d asterisk color font size 20px label asterisk visibility hidden required display none field help color error color font weight bold media max 620px body 100 webkit font smoothing antialiased padding 10px min 300px media max 620px wrapper poweredWrapper auto max 600px padding 10px media max 620px templateContainer templateBody templateContainer table 100 moz box sizing border box webkit box sizing border box box sizing border box media max 620px span auto float none padding right media max 620px auto float none com Please Confirm Subscription Yes subscribe list If received email mistake simply delete You won t subscribed if don t click confirmation link above For questions about list please contact blog com \n"
     ]
    }
   ],
   "source": [
    "# word filter\n",
    "\n",
    "example_doc = []\n",
    "\n",
    "for letter in cut_programs:\n",
    "    example_line = ''\n",
    "    for w in letter:\n",
    "        if w in voc_dict:\n",
    "            example_line += w+' '\n",
    "        \n",
    "    example_doc.append(example_line)\n",
    "\n",
    "print( example_doc[0] )"
   ]
  },
  {
   "cell_type": "code",
   "execution_count": 14,
   "metadata": {},
   "outputs": [
    {
     "name": "stdout",
     "output_type": "stream",
     "text": [
      "[nltk_data] Downloading package punkt to\n",
      "[nltk_data]     C:\\Users\\nems\\AppData\\Roaming\\nltk_data...\n",
      "[nltk_data]   Package punkt is already up-to-date!\n"
     ]
    }
   ],
   "source": [
    "import math\n",
    "import nltk\n",
    "from textblob import TextBlob as tb\n",
    "\n",
    "nltk.download('punkt')\n",
    "\n",
    "def tf(word, blob):\n",
    "    return blob.words.count(word) / len(blob.words)\n",
    "\n",
    "def n_containing(word, bloblist):\n",
    "    return sum(1 for blob in bloblist if word in blob)\n",
    "\n",
    "def idf(word, bloblist):\n",
    "    return math.log(len(bloblist) / (1 + n_containing(word, bloblist)))\n",
    "\n",
    "def tfidf(word, blob, bloblist):\n",
    "    return tf(word, blob) * idf(word, bloblist)"
   ]
  },
  {
   "cell_type": "code",
   "execution_count": 15,
   "metadata": {},
   "outputs": [
    {
     "name": "stdout",
     "output_type": "stream",
     "text": [
      "254\n"
     ]
    }
   ],
   "source": [
    "bloblist = []\n",
    "for i in range(len(example_doc)):\n",
    "    blob = tb(example_doc[i])\n",
    "    bloblist.append(blob)\n",
    "print (len(bloblist))"
   ]
  },
  {
   "cell_type": "code",
   "execution_count": 16,
   "metadata": {
    "collapsed": true
   },
   "outputs": [],
   "source": [
    "kw_n = 10\n",
    "\n",
    "key_list = []\n",
    "for i, blob in enumerate(bloblist):\n",
    "    scores = {word: tfidf(word, blob, bloblist) for word in blob.words}\n",
    "    sorted_words = sorted(scores.items(), key=lambda x: x[1], reverse=True)\n",
    "    tmp = \"\"\n",
    "    for word, score in sorted_words[ :kw_n]:\n",
    "        tmp += word + ' '\n",
    "    key_list.append(tmp)"
   ]
  },
  {
   "cell_type": "code",
   "execution_count": 17,
   "metadata": {},
   "outputs": [
    {
     "name": "stderr",
     "output_type": "stream",
     "text": [
      "C:\\Users\\nems\\Anaconda3\\lib\\site-packages\\gensim\\utils.py:862: UserWarning: detected Windows; aliasing chunkize to chunkize_serial\n",
      "  warnings.warn(\"detected Windows; aliasing chunkize to chunkize_serial\")\n"
     ]
    }
   ],
   "source": [
    "import gensim, logging\n",
    "logging.basicConfig(format='%(asctime)s : %(levelname)s : %(message)s', level=logging.INFO)"
   ]
  },
  {
   "cell_type": "code",
   "execution_count": 18,
   "metadata": {},
   "outputs": [
    {
     "name": "stderr",
     "output_type": "stream",
     "text": [
      "2017-10-29 09:29:17,230 : INFO : loading Word2Vec object from word2vec.sav\n",
      "2017-10-29 09:29:17,235 : INFO : loading wv recursively from word2vec.sav.wv.* with mmap=None\n",
      "2017-10-29 09:29:17,237 : INFO : setting ignored attribute syn0norm to None\n",
      "2017-10-29 09:29:17,239 : INFO : setting ignored attribute cum_table to None\n",
      "2017-10-29 09:29:17,241 : INFO : loaded word2vec.sav\n"
     ]
    }
   ],
   "source": [
    "# train word2vec on the two sentences\n",
    "\n",
    "#model = gensim.models.Word2Vec(example_doc, min_count=1, size=200, hs=1, negative=0)\n",
    "model = gensim.models.Word2Vec.load(\"word2vec.sav\")"
   ]
  },
  {
   "cell_type": "code",
   "execution_count": 19,
   "metadata": {},
   "outputs": [
    {
     "name": "stderr",
     "output_type": "stream",
     "text": [
      "2017-10-29 09:29:26,801 : INFO : scoring sentences with 3 workers on 86 vocabulary and 200 features, using sg=0 hs=1 sample=0.001 and negative=0\n",
      "2017-10-29 09:29:26,806 : INFO : reached end of input; waiting to finish 1 outstanding jobs\n",
      "2017-10-29 09:29:26,808 : INFO : scoring 10 sentences took 0.0s, 1892 sentences/s\n",
      "2017-10-29 09:29:26,811 : INFO : scoring sentences with 3 workers on 86 vocabulary and 200 features, using sg=0 hs=1 sample=0.001 and negative=0\n",
      "2017-10-29 09:29:26,815 : INFO : reached end of input; waiting to finish 1 outstanding jobs\n",
      "2017-10-29 09:29:26,817 : INFO : scoring 10 sentences took 0.0s, 2256 sentences/s\n",
      "2017-10-29 09:29:26,819 : INFO : scoring sentences with 3 workers on 86 vocabulary and 200 features, using sg=0 hs=1 sample=0.001 and negative=0\n",
      "2017-10-29 09:29:26,822 : INFO : reached end of input; waiting to finish 1 outstanding jobs\n",
      "2017-10-29 09:29:26,824 : INFO : scoring 10 sentences took 0.0s, 3156 sentences/s\n",
      "2017-10-29 09:29:26,826 : INFO : scoring sentences with 3 workers on 86 vocabulary and 200 features, using sg=0 hs=1 sample=0.001 and negative=0\n",
      "2017-10-29 09:29:26,829 : INFO : reached end of input; waiting to finish 1 outstanding jobs\n",
      "2017-10-29 09:29:26,832 : INFO : scoring 10 sentences took 0.0s, 2868 sentences/s\n",
      "2017-10-29 09:29:26,834 : INFO : scoring sentences with 3 workers on 86 vocabulary and 200 features, using sg=0 hs=1 sample=0.001 and negative=0\n",
      "2017-10-29 09:29:26,837 : INFO : reached end of input; waiting to finish 1 outstanding jobs\n",
      "2017-10-29 09:29:26,839 : INFO : scoring 10 sentences took 0.0s, 3042 sentences/s\n",
      "2017-10-29 09:29:26,841 : INFO : scoring sentences with 3 workers on 86 vocabulary and 200 features, using sg=0 hs=1 sample=0.001 and negative=0\n",
      "2017-10-29 09:29:26,844 : INFO : reached end of input; waiting to finish 1 outstanding jobs\n",
      "2017-10-29 09:29:26,846 : INFO : scoring 10 sentences took 0.0s, 3226 sentences/s\n",
      "2017-10-29 09:29:26,847 : INFO : scoring sentences with 3 workers on 86 vocabulary and 200 features, using sg=0 hs=1 sample=0.001 and negative=0\n",
      "2017-10-29 09:29:26,851 : INFO : reached end of input; waiting to finish 1 outstanding jobs\n",
      "2017-10-29 09:29:26,853 : INFO : scoring 10 sentences took 0.0s, 2855 sentences/s\n",
      "2017-10-29 09:29:26,855 : INFO : scoring sentences with 3 workers on 86 vocabulary and 200 features, using sg=0 hs=1 sample=0.001 and negative=0\n",
      "2017-10-29 09:29:26,858 : INFO : reached end of input; waiting to finish 1 outstanding jobs\n",
      "2017-10-29 09:29:26,860 : INFO : scoring 10 sentences took 0.0s, 3072 sentences/s\n",
      "2017-10-29 09:29:26,861 : INFO : scoring sentences with 3 workers on 86 vocabulary and 200 features, using sg=0 hs=1 sample=0.001 and negative=0\n",
      "2017-10-29 09:29:26,864 : INFO : reached end of input; waiting to finish 1 outstanding jobs\n",
      "2017-10-29 09:29:26,866 : INFO : scoring 10 sentences took 0.0s, 3310 sentences/s\n",
      "2017-10-29 09:29:26,868 : INFO : scoring sentences with 3 workers on 86 vocabulary and 200 features, using sg=0 hs=1 sample=0.001 and negative=0\n",
      "2017-10-29 09:29:26,871 : INFO : reached end of input; waiting to finish 1 outstanding jobs\n",
      "2017-10-29 09:29:26,872 : INFO : scoring 10 sentences took 0.0s, 3233 sentences/s\n",
      "2017-10-29 09:29:26,874 : INFO : scoring sentences with 3 workers on 86 vocabulary and 200 features, using sg=0 hs=1 sample=0.001 and negative=0\n",
      "2017-10-29 09:29:26,877 : INFO : reached end of input; waiting to finish 1 outstanding jobs\n",
      "2017-10-29 09:29:26,879 : INFO : scoring 10 sentences took 0.0s, 2920 sentences/s\n",
      "2017-10-29 09:29:26,881 : INFO : scoring sentences with 3 workers on 86 vocabulary and 200 features, using sg=0 hs=1 sample=0.001 and negative=0\n",
      "2017-10-29 09:29:26,883 : INFO : reached end of input; waiting to finish 1 outstanding jobs\n",
      "2017-10-29 09:29:26,885 : INFO : scoring 10 sentences took 0.0s, 3187 sentences/s\n",
      "2017-10-29 09:29:26,887 : INFO : scoring sentences with 3 workers on 86 vocabulary and 200 features, using sg=0 hs=1 sample=0.001 and negative=0\n",
      "2017-10-29 09:29:26,890 : INFO : reached end of input; waiting to finish 1 outstanding jobs\n",
      "2017-10-29 09:29:26,891 : INFO : scoring 10 sentences took 0.0s, 3203 sentences/s\n",
      "2017-10-29 09:29:26,893 : INFO : scoring sentences with 3 workers on 86 vocabulary and 200 features, using sg=0 hs=1 sample=0.001 and negative=0\n",
      "2017-10-29 09:29:26,896 : INFO : reached end of input; waiting to finish 1 outstanding jobs\n",
      "2017-10-29 09:29:26,898 : INFO : scoring 10 sentences took 0.0s, 3445 sentences/s\n",
      "2017-10-29 09:29:26,899 : INFO : scoring sentences with 3 workers on 86 vocabulary and 200 features, using sg=0 hs=1 sample=0.001 and negative=0\n",
      "2017-10-29 09:29:26,904 : INFO : reached end of input; waiting to finish 1 outstanding jobs\n",
      "2017-10-29 09:29:26,906 : INFO : scoring 10 sentences took 0.0s, 1946 sentences/s\n",
      "2017-10-29 09:29:26,908 : INFO : scoring sentences with 3 workers on 86 vocabulary and 200 features, using sg=0 hs=1 sample=0.001 and negative=0\n",
      "2017-10-29 09:29:26,914 : INFO : reached end of input; waiting to finish 1 outstanding jobs\n",
      "2017-10-29 09:29:26,916 : INFO : scoring 10 sentences took 0.0s, 1658 sentences/s\n",
      "2017-10-29 09:29:26,920 : INFO : scoring sentences with 3 workers on 86 vocabulary and 200 features, using sg=0 hs=1 sample=0.001 and negative=0\n",
      "2017-10-29 09:29:26,924 : INFO : reached end of input; waiting to finish 1 outstanding jobs\n",
      "2017-10-29 09:29:26,925 : INFO : scoring 10 sentences took 0.0s, 2940 sentences/s\n",
      "2017-10-29 09:29:26,927 : INFO : scoring sentences with 3 workers on 86 vocabulary and 200 features, using sg=0 hs=1 sample=0.001 and negative=0\n",
      "2017-10-29 09:29:26,931 : INFO : reached end of input; waiting to finish 1 outstanding jobs\n",
      "2017-10-29 09:29:26,933 : INFO : scoring 10 sentences took 0.0s, 2742 sentences/s\n",
      "2017-10-29 09:29:26,935 : INFO : scoring sentences with 3 workers on 86 vocabulary and 200 features, using sg=0 hs=1 sample=0.001 and negative=0\n",
      "2017-10-29 09:29:26,938 : INFO : reached end of input; waiting to finish 1 outstanding jobs\n",
      "2017-10-29 09:29:26,940 : INFO : scoring 10 sentences took 0.0s, 3092 sentences/s\n",
      "2017-10-29 09:29:26,942 : INFO : scoring sentences with 3 workers on 86 vocabulary and 200 features, using sg=0 hs=1 sample=0.001 and negative=0\n",
      "2017-10-29 09:29:26,945 : INFO : reached end of input; waiting to finish 1 outstanding jobs\n",
      "2017-10-29 09:29:26,947 : INFO : scoring 10 sentences took 0.0s, 3121 sentences/s\n",
      "2017-10-29 09:29:26,949 : INFO : scoring sentences with 3 workers on 86 vocabulary and 200 features, using sg=0 hs=1 sample=0.001 and negative=0\n",
      "2017-10-29 09:29:26,952 : INFO : reached end of input; waiting to finish 1 outstanding jobs\n",
      "2017-10-29 09:29:26,954 : INFO : scoring 10 sentences took 0.0s, 2781 sentences/s\n",
      "2017-10-29 09:29:26,956 : INFO : scoring sentences with 3 workers on 86 vocabulary and 200 features, using sg=0 hs=1 sample=0.001 and negative=0\n",
      "2017-10-29 09:29:26,959 : INFO : reached end of input; waiting to finish 1 outstanding jobs\n",
      "2017-10-29 09:29:26,960 : INFO : scoring 10 sentences took 0.0s, 3224 sentences/s\n",
      "2017-10-29 09:29:26,962 : INFO : scoring sentences with 3 workers on 86 vocabulary and 200 features, using sg=0 hs=1 sample=0.001 and negative=0\n",
      "2017-10-29 09:29:26,965 : INFO : reached end of input; waiting to finish 1 outstanding jobs\n",
      "2017-10-29 09:29:26,967 : INFO : scoring 10 sentences took 0.0s, 3142 sentences/s\n",
      "2017-10-29 09:29:26,968 : INFO : scoring sentences with 3 workers on 86 vocabulary and 200 features, using sg=0 hs=1 sample=0.001 and negative=0\n",
      "2017-10-29 09:29:26,972 : INFO : reached end of input; waiting to finish 1 outstanding jobs\n",
      "2017-10-29 09:29:26,973 : INFO : scoring 10 sentences took 0.0s, 3312 sentences/s\n",
      "2017-10-29 09:29:26,975 : INFO : scoring sentences with 3 workers on 86 vocabulary and 200 features, using sg=0 hs=1 sample=0.001 and negative=0\n",
      "2017-10-29 09:29:26,977 : INFO : reached end of input; waiting to finish 1 outstanding jobs\n",
      "2017-10-29 09:29:26,979 : INFO : scoring 10 sentences took 0.0s, 3525 sentences/s\n",
      "2017-10-29 09:29:26,981 : INFO : scoring sentences with 3 workers on 86 vocabulary and 200 features, using sg=0 hs=1 sample=0.001 and negative=0\n",
      "2017-10-29 09:29:26,988 : INFO : reached end of input; waiting to finish 1 outstanding jobs\n"
     ]
    },
    {
     "name": "stderr",
     "output_type": "stream",
     "text": [
      "2017-10-29 09:29:26,991 : INFO : scoring 10 sentences took 0.0s, 1114 sentences/s\n",
      "2017-10-29 09:29:26,995 : INFO : scoring sentences with 3 workers on 86 vocabulary and 200 features, using sg=0 hs=1 sample=0.001 and negative=0\n",
      "2017-10-29 09:29:26,999 : INFO : reached end of input; waiting to finish 1 outstanding jobs\n",
      "2017-10-29 09:29:27,001 : INFO : scoring 10 sentences took 0.0s, 3227 sentences/s\n",
      "2017-10-29 09:29:27,002 : INFO : scoring sentences with 3 workers on 86 vocabulary and 200 features, using sg=0 hs=1 sample=0.001 and negative=0\n",
      "2017-10-29 09:29:27,006 : INFO : reached end of input; waiting to finish 1 outstanding jobs\n",
      "2017-10-29 09:29:27,007 : INFO : scoring 10 sentences took 0.0s, 3551 sentences/s\n",
      "2017-10-29 09:29:27,009 : INFO : scoring sentences with 3 workers on 86 vocabulary and 200 features, using sg=0 hs=1 sample=0.001 and negative=0\n",
      "2017-10-29 09:29:27,012 : INFO : reached end of input; waiting to finish 1 outstanding jobs\n",
      "2017-10-29 09:29:27,013 : INFO : scoring 10 sentences took 0.0s, 3234 sentences/s\n",
      "2017-10-29 09:29:27,015 : INFO : scoring sentences with 3 workers on 86 vocabulary and 200 features, using sg=0 hs=1 sample=0.001 and negative=0\n",
      "2017-10-29 09:29:27,019 : INFO : reached end of input; waiting to finish 1 outstanding jobs\n",
      "2017-10-29 09:29:27,020 : INFO : scoring 10 sentences took 0.0s, 3052 sentences/s\n",
      "2017-10-29 09:29:27,022 : INFO : scoring sentences with 3 workers on 86 vocabulary and 200 features, using sg=0 hs=1 sample=0.001 and negative=0\n",
      "2017-10-29 09:29:27,028 : INFO : reached end of input; waiting to finish 1 outstanding jobs\n",
      "2017-10-29 09:29:27,033 : INFO : scoring 10 sentences took 0.0s, 1250 sentences/s\n",
      "2017-10-29 09:29:27,037 : INFO : scoring sentences with 3 workers on 86 vocabulary and 200 features, using sg=0 hs=1 sample=0.001 and negative=0\n",
      "2017-10-29 09:29:27,041 : INFO : reached end of input; waiting to finish 1 outstanding jobs\n",
      "2017-10-29 09:29:27,043 : INFO : scoring 10 sentences took 0.0s, 2874 sentences/s\n",
      "2017-10-29 09:29:27,045 : INFO : scoring sentences with 3 workers on 86 vocabulary and 200 features, using sg=0 hs=1 sample=0.001 and negative=0\n",
      "2017-10-29 09:29:27,048 : INFO : reached end of input; waiting to finish 1 outstanding jobs\n",
      "2017-10-29 09:29:27,049 : INFO : scoring 10 sentences took 0.0s, 3650 sentences/s\n",
      "2017-10-29 09:29:27,051 : INFO : scoring sentences with 3 workers on 86 vocabulary and 200 features, using sg=0 hs=1 sample=0.001 and negative=0\n",
      "2017-10-29 09:29:27,055 : INFO : reached end of input; waiting to finish 1 outstanding jobs\n",
      "2017-10-29 09:29:27,057 : INFO : scoring 10 sentences took 0.0s, 2481 sentences/s\n",
      "2017-10-29 09:29:27,059 : INFO : scoring sentences with 3 workers on 86 vocabulary and 200 features, using sg=0 hs=1 sample=0.001 and negative=0\n",
      "2017-10-29 09:29:27,062 : INFO : reached end of input; waiting to finish 1 outstanding jobs\n",
      "2017-10-29 09:29:27,064 : INFO : scoring 10 sentences took 0.0s, 2887 sentences/s\n",
      "2017-10-29 09:29:27,067 : INFO : scoring sentences with 3 workers on 86 vocabulary and 200 features, using sg=0 hs=1 sample=0.001 and negative=0\n",
      "2017-10-29 09:29:27,081 : INFO : reached end of input; waiting to finish 1 outstanding jobs\n",
      "2017-10-29 09:29:27,083 : INFO : scoring 10 sentences took 0.0s, 776 sentences/s\n",
      "2017-10-29 09:29:27,085 : INFO : scoring sentences with 3 workers on 86 vocabulary and 200 features, using sg=0 hs=1 sample=0.001 and negative=0\n",
      "2017-10-29 09:29:27,088 : INFO : reached end of input; waiting to finish 1 outstanding jobs\n",
      "2017-10-29 09:29:27,090 : INFO : scoring 10 sentences took 0.0s, 3430 sentences/s\n",
      "2017-10-29 09:29:27,092 : INFO : scoring sentences with 3 workers on 86 vocabulary and 200 features, using sg=0 hs=1 sample=0.001 and negative=0\n",
      "2017-10-29 09:29:27,095 : INFO : reached end of input; waiting to finish 1 outstanding jobs\n",
      "2017-10-29 09:29:27,096 : INFO : scoring 10 sentences took 0.0s, 3100 sentences/s\n",
      "2017-10-29 09:29:27,098 : INFO : scoring sentences with 3 workers on 86 vocabulary and 200 features, using sg=0 hs=1 sample=0.001 and negative=0\n",
      "2017-10-29 09:29:27,102 : INFO : reached end of input; waiting to finish 1 outstanding jobs\n",
      "2017-10-29 09:29:27,103 : INFO : scoring 10 sentences took 0.0s, 3240 sentences/s\n",
      "2017-10-29 09:29:27,106 : INFO : scoring sentences with 3 workers on 86 vocabulary and 200 features, using sg=0 hs=1 sample=0.001 and negative=0\n",
      "2017-10-29 09:29:27,112 : INFO : reached end of input; waiting to finish 1 outstanding jobs\n",
      "2017-10-29 09:29:27,115 : INFO : scoring 10 sentences took 0.0s, 1664 sentences/s\n",
      "2017-10-29 09:29:27,120 : INFO : scoring sentences with 3 workers on 86 vocabulary and 200 features, using sg=0 hs=1 sample=0.001 and negative=0\n",
      "2017-10-29 09:29:27,125 : INFO : reached end of input; waiting to finish 1 outstanding jobs\n",
      "2017-10-29 09:29:27,127 : INFO : scoring 10 sentences took 0.0s, 1584 sentences/s\n",
      "2017-10-29 09:29:27,129 : INFO : scoring sentences with 3 workers on 86 vocabulary and 200 features, using sg=0 hs=1 sample=0.001 and negative=0\n",
      "2017-10-29 09:29:27,136 : INFO : reached end of input; waiting to finish 1 outstanding jobs\n",
      "2017-10-29 09:29:27,140 : INFO : scoring 10 sentences took 0.0s, 1068 sentences/s\n",
      "2017-10-29 09:29:27,142 : INFO : scoring sentences with 3 workers on 86 vocabulary and 200 features, using sg=0 hs=1 sample=0.001 and negative=0\n",
      "2017-10-29 09:29:27,148 : INFO : reached end of input; waiting to finish 1 outstanding jobs\n",
      "2017-10-29 09:29:27,151 : INFO : scoring 10 sentences took 0.0s, 1452 sentences/s\n",
      "2017-10-29 09:29:27,153 : INFO : scoring sentences with 3 workers on 86 vocabulary and 200 features, using sg=0 hs=1 sample=0.001 and negative=0\n",
      "2017-10-29 09:29:27,157 : INFO : reached end of input; waiting to finish 1 outstanding jobs\n",
      "2017-10-29 09:29:27,158 : INFO : scoring 10 sentences took 0.0s, 2960 sentences/s\n",
      "2017-10-29 09:29:27,160 : INFO : scoring sentences with 3 workers on 86 vocabulary and 200 features, using sg=0 hs=1 sample=0.001 and negative=0\n",
      "2017-10-29 09:29:27,164 : INFO : reached end of input; waiting to finish 1 outstanding jobs\n",
      "2017-10-29 09:29:27,165 : INFO : scoring 10 sentences took 0.0s, 3488 sentences/s\n",
      "2017-10-29 09:29:27,169 : INFO : scoring sentences with 3 workers on 86 vocabulary and 200 features, using sg=0 hs=1 sample=0.001 and negative=0\n",
      "2017-10-29 09:29:27,178 : INFO : reached end of input; waiting to finish 1 outstanding jobs\n",
      "2017-10-29 09:29:27,181 : INFO : scoring 10 sentences took 0.0s, 991 sentences/s\n",
      "2017-10-29 09:29:27,183 : INFO : scoring sentences with 3 workers on 86 vocabulary and 200 features, using sg=0 hs=1 sample=0.001 and negative=0\n",
      "2017-10-29 09:29:27,187 : INFO : reached end of input; waiting to finish 1 outstanding jobs\n",
      "2017-10-29 09:29:27,189 : INFO : scoring 10 sentences took 0.0s, 2476 sentences/s\n",
      "2017-10-29 09:29:27,191 : INFO : scoring sentences with 3 workers on 86 vocabulary and 200 features, using sg=0 hs=1 sample=0.001 and negative=0\n",
      "2017-10-29 09:29:27,194 : INFO : reached end of input; waiting to finish 1 outstanding jobs\n",
      "2017-10-29 09:29:27,196 : INFO : scoring 10 sentences took 0.0s, 2853 sentences/s\n",
      "2017-10-29 09:29:27,197 : INFO : scoring sentences with 3 workers on 86 vocabulary and 200 features, using sg=0 hs=1 sample=0.001 and negative=0\n",
      "2017-10-29 09:29:27,200 : INFO : reached end of input; waiting to finish 1 outstanding jobs\n",
      "2017-10-29 09:29:27,202 : INFO : scoring 10 sentences took 0.0s, 3596 sentences/s\n",
      "2017-10-29 09:29:27,204 : INFO : scoring sentences with 3 workers on 86 vocabulary and 200 features, using sg=0 hs=1 sample=0.001 and negative=0\n",
      "2017-10-29 09:29:27,208 : INFO : reached end of input; waiting to finish 1 outstanding jobs\n",
      "2017-10-29 09:29:27,210 : INFO : scoring 10 sentences took 0.0s, 2740 sentences/s\n",
      "2017-10-29 09:29:27,212 : INFO : scoring sentences with 3 workers on 86 vocabulary and 200 features, using sg=0 hs=1 sample=0.001 and negative=0\n",
      "2017-10-29 09:29:27,215 : INFO : reached end of input; waiting to finish 1 outstanding jobs\n",
      "2017-10-29 09:29:27,217 : INFO : scoring 10 sentences took 0.0s, 2970 sentences/s\n",
      "2017-10-29 09:29:27,218 : INFO : scoring sentences with 3 workers on 86 vocabulary and 200 features, using sg=0 hs=1 sample=0.001 and negative=0\n"
     ]
    },
    {
     "name": "stderr",
     "output_type": "stream",
     "text": [
      "2017-10-29 09:29:27,226 : INFO : reached end of input; waiting to finish 1 outstanding jobs\n",
      "2017-10-29 09:29:27,231 : INFO : scoring 10 sentences took 0.0s, 929 sentences/s\n",
      "2017-10-29 09:29:27,234 : INFO : scoring sentences with 3 workers on 86 vocabulary and 200 features, using sg=0 hs=1 sample=0.001 and negative=0\n",
      "2017-10-29 09:29:27,237 : INFO : reached end of input; waiting to finish 1 outstanding jobs\n",
      "2017-10-29 09:29:27,239 : INFO : scoring 10 sentences took 0.0s, 3101 sentences/s\n",
      "2017-10-29 09:29:27,241 : INFO : scoring sentences with 3 workers on 86 vocabulary and 200 features, using sg=0 hs=1 sample=0.001 and negative=0\n",
      "2017-10-29 09:29:27,244 : INFO : reached end of input; waiting to finish 1 outstanding jobs\n",
      "2017-10-29 09:29:27,247 : INFO : scoring 10 sentences took 0.0s, 2528 sentences/s\n",
      "2017-10-29 09:29:27,248 : INFO : scoring sentences with 3 workers on 86 vocabulary and 200 features, using sg=0 hs=1 sample=0.001 and negative=0\n",
      "2017-10-29 09:29:27,252 : INFO : reached end of input; waiting to finish 1 outstanding jobs\n",
      "2017-10-29 09:29:27,253 : INFO : scoring 10 sentences took 0.0s, 2987 sentences/s\n",
      "2017-10-29 09:29:27,256 : INFO : scoring sentences with 3 workers on 86 vocabulary and 200 features, using sg=0 hs=1 sample=0.001 and negative=0\n",
      "2017-10-29 09:29:27,259 : INFO : reached end of input; waiting to finish 1 outstanding jobs\n",
      "2017-10-29 09:29:27,261 : INFO : scoring 10 sentences took 0.0s, 2509 sentences/s\n",
      "2017-10-29 09:29:27,263 : INFO : scoring sentences with 3 workers on 86 vocabulary and 200 features, using sg=0 hs=1 sample=0.001 and negative=0\n",
      "2017-10-29 09:29:27,267 : INFO : reached end of input; waiting to finish 1 outstanding jobs\n",
      "2017-10-29 09:29:27,268 : INFO : scoring 10 sentences took 0.0s, 3519 sentences/s\n",
      "2017-10-29 09:29:27,270 : INFO : scoring sentences with 3 workers on 86 vocabulary and 200 features, using sg=0 hs=1 sample=0.001 and negative=0\n",
      "2017-10-29 09:29:27,273 : INFO : reached end of input; waiting to finish 1 outstanding jobs\n",
      "2017-10-29 09:29:27,274 : INFO : scoring 10 sentences took 0.0s, 3357 sentences/s\n",
      "2017-10-29 09:29:27,276 : INFO : scoring sentences with 3 workers on 86 vocabulary and 200 features, using sg=0 hs=1 sample=0.001 and negative=0\n",
      "2017-10-29 09:29:27,282 : INFO : reached end of input; waiting to finish 1 outstanding jobs\n",
      "2017-10-29 09:29:27,287 : INFO : scoring 10 sentences took 0.0s, 1086 sentences/s\n",
      "2017-10-29 09:29:27,289 : INFO : scoring sentences with 3 workers on 86 vocabulary and 200 features, using sg=0 hs=1 sample=0.001 and negative=0\n",
      "2017-10-29 09:29:27,293 : INFO : reached end of input; waiting to finish 1 outstanding jobs\n",
      "2017-10-29 09:29:27,295 : INFO : scoring 10 sentences took 0.0s, 2782 sentences/s\n",
      "2017-10-29 09:29:27,297 : INFO : scoring sentences with 3 workers on 86 vocabulary and 200 features, using sg=0 hs=1 sample=0.001 and negative=0\n",
      "2017-10-29 09:29:27,301 : INFO : reached end of input; waiting to finish 1 outstanding jobs\n",
      "2017-10-29 09:29:27,302 : INFO : scoring 10 sentences took 0.0s, 3365 sentences/s\n",
      "2017-10-29 09:29:27,304 : INFO : scoring sentences with 3 workers on 86 vocabulary and 200 features, using sg=0 hs=1 sample=0.001 and negative=0\n",
      "2017-10-29 09:29:27,308 : INFO : reached end of input; waiting to finish 1 outstanding jobs\n",
      "2017-10-29 09:29:27,310 : INFO : scoring 10 sentences took 0.0s, 2565 sentences/s\n",
      "2017-10-29 09:29:27,312 : INFO : scoring sentences with 3 workers on 86 vocabulary and 200 features, using sg=0 hs=1 sample=0.001 and negative=0\n",
      "2017-10-29 09:29:27,315 : INFO : reached end of input; waiting to finish 1 outstanding jobs\n",
      "2017-10-29 09:29:27,317 : INFO : scoring 10 sentences took 0.0s, 3171 sentences/s\n",
      "2017-10-29 09:29:27,319 : INFO : scoring sentences with 3 workers on 86 vocabulary and 200 features, using sg=0 hs=1 sample=0.001 and negative=0\n",
      "2017-10-29 09:29:27,322 : INFO : reached end of input; waiting to finish 1 outstanding jobs\n",
      "2017-10-29 09:29:27,325 : INFO : scoring 10 sentences took 0.0s, 2398 sentences/s\n",
      "2017-10-29 09:29:27,327 : INFO : scoring sentences with 3 workers on 86 vocabulary and 200 features, using sg=0 hs=1 sample=0.001 and negative=0\n",
      "2017-10-29 09:29:27,333 : INFO : reached end of input; waiting to finish 1 outstanding jobs\n",
      "2017-10-29 09:29:27,336 : INFO : scoring 10 sentences took 0.0s, 1438 sentences/s\n",
      "2017-10-29 09:29:27,338 : INFO : scoring sentences with 3 workers on 86 vocabulary and 200 features, using sg=0 hs=1 sample=0.001 and negative=0\n",
      "2017-10-29 09:29:27,341 : INFO : reached end of input; waiting to finish 1 outstanding jobs\n",
      "2017-10-29 09:29:27,343 : INFO : scoring 10 sentences took 0.0s, 3242 sentences/s\n",
      "2017-10-29 09:29:27,344 : INFO : scoring sentences with 3 workers on 86 vocabulary and 200 features, using sg=0 hs=1 sample=0.001 and negative=0\n",
      "2017-10-29 09:29:27,348 : INFO : reached end of input; waiting to finish 1 outstanding jobs\n",
      "2017-10-29 09:29:27,349 : INFO : scoring 10 sentences took 0.0s, 3363 sentences/s\n",
      "2017-10-29 09:29:27,352 : INFO : scoring sentences with 3 workers on 86 vocabulary and 200 features, using sg=0 hs=1 sample=0.001 and negative=0\n",
      "2017-10-29 09:29:27,355 : INFO : reached end of input; waiting to finish 1 outstanding jobs\n",
      "2017-10-29 09:29:27,358 : INFO : scoring 10 sentences took 0.0s, 2074 sentences/s\n",
      "2017-10-29 09:29:27,360 : INFO : scoring sentences with 3 workers on 86 vocabulary and 200 features, using sg=0 hs=1 sample=0.001 and negative=0\n",
      "2017-10-29 09:29:27,368 : INFO : reached end of input; waiting to finish 1 outstanding jobs\n",
      "2017-10-29 09:29:27,371 : INFO : scoring 10 sentences took 0.0s, 1083 sentences/s\n",
      "2017-10-29 09:29:27,373 : INFO : scoring sentences with 3 workers on 86 vocabulary and 200 features, using sg=0 hs=1 sample=0.001 and negative=0\n",
      "2017-10-29 09:29:27,376 : INFO : reached end of input; waiting to finish 1 outstanding jobs\n",
      "2017-10-29 09:29:27,378 : INFO : scoring 10 sentences took 0.0s, 3203 sentences/s\n",
      "2017-10-29 09:29:27,380 : INFO : scoring sentences with 3 workers on 86 vocabulary and 200 features, using sg=0 hs=1 sample=0.001 and negative=0\n",
      "2017-10-29 09:29:27,383 : INFO : reached end of input; waiting to finish 1 outstanding jobs\n",
      "2017-10-29 09:29:27,385 : INFO : scoring 10 sentences took 0.0s, 3337 sentences/s\n",
      "2017-10-29 09:29:27,386 : INFO : scoring sentences with 3 workers on 86 vocabulary and 200 features, using sg=0 hs=1 sample=0.001 and negative=0\n",
      "2017-10-29 09:29:27,390 : INFO : reached end of input; waiting to finish 1 outstanding jobs\n",
      "2017-10-29 09:29:27,393 : INFO : scoring 10 sentences took 0.0s, 2040 sentences/s\n",
      "2017-10-29 09:29:27,396 : INFO : scoring sentences with 3 workers on 86 vocabulary and 200 features, using sg=0 hs=1 sample=0.001 and negative=0\n",
      "2017-10-29 09:29:27,402 : INFO : reached end of input; waiting to finish 1 outstanding jobs\n",
      "2017-10-29 09:29:27,404 : INFO : scoring 10 sentences took 0.0s, 1572 sentences/s\n",
      "2017-10-29 09:29:27,406 : INFO : scoring sentences with 3 workers on 86 vocabulary and 200 features, using sg=0 hs=1 sample=0.001 and negative=0\n",
      "2017-10-29 09:29:27,410 : INFO : reached end of input; waiting to finish 1 outstanding jobs\n",
      "2017-10-29 09:29:27,412 : INFO : scoring 10 sentences took 0.0s, 2567 sentences/s\n",
      "2017-10-29 09:29:27,413 : INFO : scoring sentences with 3 workers on 86 vocabulary and 200 features, using sg=0 hs=1 sample=0.001 and negative=0\n",
      "2017-10-29 09:29:27,418 : INFO : reached end of input; waiting to finish 1 outstanding jobs\n",
      "2017-10-29 09:29:27,421 : INFO : scoring 10 sentences took 0.0s, 1556 sentences/s\n",
      "2017-10-29 09:29:27,425 : INFO : scoring sentences with 3 workers on 86 vocabulary and 200 features, using sg=0 hs=1 sample=0.001 and negative=0\n",
      "2017-10-29 09:29:27,429 : INFO : reached end of input; waiting to finish 1 outstanding jobs\n",
      "2017-10-29 09:29:27,431 : INFO : scoring 10 sentences took 0.0s, 2992 sentences/s\n",
      "2017-10-29 09:29:27,432 : INFO : scoring sentences with 3 workers on 86 vocabulary and 200 features, using sg=0 hs=1 sample=0.001 and negative=0\n",
      "2017-10-29 09:29:27,435 : INFO : reached end of input; waiting to finish 1 outstanding jobs\n",
      "2017-10-29 09:29:27,437 : INFO : scoring 10 sentences took 0.0s, 3158 sentences/s\n",
      "2017-10-29 09:29:27,440 : INFO : scoring sentences with 3 workers on 86 vocabulary and 200 features, using sg=0 hs=1 sample=0.001 and negative=0\n"
     ]
    },
    {
     "name": "stderr",
     "output_type": "stream",
     "text": [
      "2017-10-29 09:29:27,443 : INFO : reached end of input; waiting to finish 1 outstanding jobs\n",
      "2017-10-29 09:29:27,445 : INFO : scoring 10 sentences took 0.0s, 2724 sentences/s\n",
      "2017-10-29 09:29:27,448 : INFO : scoring sentences with 3 workers on 86 vocabulary and 200 features, using sg=0 hs=1 sample=0.001 and negative=0\n",
      "2017-10-29 09:29:27,450 : INFO : reached end of input; waiting to finish 1 outstanding jobs\n",
      "2017-10-29 09:29:27,452 : INFO : scoring 10 sentences took 0.0s, 3086 sentences/s\n",
      "2017-10-29 09:29:27,454 : INFO : scoring sentences with 3 workers on 86 vocabulary and 200 features, using sg=0 hs=1 sample=0.001 and negative=0\n",
      "2017-10-29 09:29:27,461 : INFO : reached end of input; waiting to finish 1 outstanding jobs\n",
      "2017-10-29 09:29:27,464 : INFO : scoring 10 sentences took 0.0s, 1202 sentences/s\n",
      "2017-10-29 09:29:27,466 : INFO : scoring sentences with 3 workers on 86 vocabulary and 200 features, using sg=0 hs=1 sample=0.001 and negative=0\n",
      "2017-10-29 09:29:27,469 : INFO : reached end of input; waiting to finish 1 outstanding jobs\n",
      "2017-10-29 09:29:27,471 : INFO : scoring 5 sentences took 0.0s, 1422 sentences/s\n",
      "2017-10-29 09:29:27,473 : INFO : scoring sentences with 3 workers on 86 vocabulary and 200 features, using sg=0 hs=1 sample=0.001 and negative=0\n",
      "2017-10-29 09:29:27,476 : INFO : reached end of input; waiting to finish 1 outstanding jobs\n",
      "2017-10-29 09:29:27,479 : INFO : scoring 10 sentences took 0.0s, 2441 sentences/s\n",
      "2017-10-29 09:29:27,481 : INFO : scoring sentences with 3 workers on 86 vocabulary and 200 features, using sg=0 hs=1 sample=0.001 and negative=0\n",
      "2017-10-29 09:29:27,488 : INFO : reached end of input; waiting to finish 1 outstanding jobs\n",
      "2017-10-29 09:29:27,493 : INFO : scoring 10 sentences took 0.0s, 1135 sentences/s\n",
      "2017-10-29 09:29:27,495 : INFO : scoring sentences with 3 workers on 86 vocabulary and 200 features, using sg=0 hs=1 sample=0.001 and negative=0\n",
      "2017-10-29 09:29:27,498 : INFO : reached end of input; waiting to finish 1 outstanding jobs\n",
      "2017-10-29 09:29:27,500 : INFO : scoring 10 sentences took 0.0s, 3097 sentences/s\n",
      "2017-10-29 09:29:27,503 : INFO : scoring sentences with 3 workers on 86 vocabulary and 200 features, using sg=0 hs=1 sample=0.001 and negative=0\n",
      "2017-10-29 09:29:27,506 : INFO : reached end of input; waiting to finish 1 outstanding jobs\n",
      "2017-10-29 09:29:27,507 : INFO : scoring 10 sentences took 0.0s, 2884 sentences/s\n",
      "2017-10-29 09:29:27,509 : INFO : scoring sentences with 3 workers on 86 vocabulary and 200 features, using sg=0 hs=1 sample=0.001 and negative=0\n",
      "2017-10-29 09:29:27,516 : INFO : reached end of input; waiting to finish 1 outstanding jobs\n",
      "2017-10-29 09:29:27,521 : INFO : scoring 10 sentences took 0.0s, 1044 sentences/s\n",
      "2017-10-29 09:29:27,523 : INFO : scoring sentences with 3 workers on 86 vocabulary and 200 features, using sg=0 hs=1 sample=0.001 and negative=0\n",
      "2017-10-29 09:29:27,527 : INFO : reached end of input; waiting to finish 1 outstanding jobs\n",
      "2017-10-29 09:29:27,528 : INFO : scoring 10 sentences took 0.0s, 3122 sentences/s\n",
      "2017-10-29 09:29:27,530 : INFO : scoring sentences with 3 workers on 86 vocabulary and 200 features, using sg=0 hs=1 sample=0.001 and negative=0\n",
      "2017-10-29 09:29:27,533 : INFO : reached end of input; waiting to finish 1 outstanding jobs\n",
      "2017-10-29 09:29:27,535 : INFO : scoring 10 sentences took 0.0s, 2980 sentences/s\n",
      "2017-10-29 09:29:27,537 : INFO : scoring sentences with 3 workers on 86 vocabulary and 200 features, using sg=0 hs=1 sample=0.001 and negative=0\n",
      "2017-10-29 09:29:27,543 : INFO : reached end of input; waiting to finish 1 outstanding jobs\n",
      "2017-10-29 09:29:27,546 : INFO : scoring 10 sentences took 0.0s, 1483 sentences/s\n",
      "2017-10-29 09:29:27,551 : INFO : scoring sentences with 3 workers on 86 vocabulary and 200 features, using sg=0 hs=1 sample=0.001 and negative=0\n",
      "2017-10-29 09:29:27,555 : INFO : reached end of input; waiting to finish 1 outstanding jobs\n",
      "2017-10-29 09:29:27,557 : INFO : scoring 10 sentences took 0.0s, 2769 sentences/s\n",
      "2017-10-29 09:29:27,558 : INFO : scoring sentences with 3 workers on 86 vocabulary and 200 features, using sg=0 hs=1 sample=0.001 and negative=0\n",
      "2017-10-29 09:29:27,562 : INFO : reached end of input; waiting to finish 1 outstanding jobs\n",
      "2017-10-29 09:29:27,564 : INFO : scoring 10 sentences took 0.0s, 3514 sentences/s\n",
      "2017-10-29 09:29:27,565 : INFO : scoring sentences with 3 workers on 86 vocabulary and 200 features, using sg=0 hs=1 sample=0.001 and negative=0\n",
      "2017-10-29 09:29:27,570 : INFO : reached end of input; waiting to finish 1 outstanding jobs\n",
      "2017-10-29 09:29:27,573 : INFO : scoring 10 sentences took 0.0s, 1696 sentences/s\n",
      "2017-10-29 09:29:27,576 : INFO : scoring sentences with 3 workers on 86 vocabulary and 200 features, using sg=0 hs=1 sample=0.001 and negative=0\n",
      "2017-10-29 09:29:27,582 : INFO : reached end of input; waiting to finish 1 outstanding jobs\n",
      "2017-10-29 09:29:27,586 : INFO : scoring 10 sentences took 0.0s, 2580 sentences/s\n",
      "2017-10-29 09:29:27,588 : INFO : scoring sentences with 3 workers on 86 vocabulary and 200 features, using sg=0 hs=1 sample=0.001 and negative=0\n",
      "2017-10-29 09:29:27,591 : INFO : reached end of input; waiting to finish 1 outstanding jobs\n",
      "2017-10-29 09:29:27,594 : INFO : scoring 10 sentences took 0.0s, 2488 sentences/s\n",
      "2017-10-29 09:29:27,596 : INFO : scoring sentences with 3 workers on 86 vocabulary and 200 features, using sg=0 hs=1 sample=0.001 and negative=0\n",
      "2017-10-29 09:29:27,600 : INFO : reached end of input; waiting to finish 1 outstanding jobs\n",
      "2017-10-29 09:29:27,601 : INFO : scoring 10 sentences took 0.0s, 2683 sentences/s\n",
      "2017-10-29 09:29:27,604 : INFO : scoring sentences with 3 workers on 86 vocabulary and 200 features, using sg=0 hs=1 sample=0.001 and negative=0\n",
      "2017-10-29 09:29:27,611 : INFO : reached end of input; waiting to finish 1 outstanding jobs\n",
      "2017-10-29 09:29:27,614 : INFO : scoring 10 sentences took 0.0s, 1177 sentences/s\n",
      "2017-10-29 09:29:27,616 : INFO : scoring sentences with 3 workers on 86 vocabulary and 200 features, using sg=0 hs=1 sample=0.001 and negative=0\n",
      "2017-10-29 09:29:27,620 : INFO : reached end of input; waiting to finish 1 outstanding jobs\n",
      "2017-10-29 09:29:27,622 : INFO : scoring 10 sentences took 0.0s, 2713 sentences/s\n",
      "2017-10-29 09:29:27,623 : INFO : scoring sentences with 3 workers on 86 vocabulary and 200 features, using sg=0 hs=1 sample=0.001 and negative=0\n",
      "2017-10-29 09:29:27,626 : INFO : reached end of input; waiting to finish 1 outstanding jobs\n",
      "2017-10-29 09:29:27,629 : INFO : scoring 10 sentences took 0.0s, 2669 sentences/s\n",
      "2017-10-29 09:29:27,630 : INFO : scoring sentences with 3 workers on 86 vocabulary and 200 features, using sg=0 hs=1 sample=0.001 and negative=0\n",
      "2017-10-29 09:29:27,635 : INFO : reached end of input; waiting to finish 1 outstanding jobs\n",
      "2017-10-29 09:29:27,637 : INFO : scoring 10 sentences took 0.0s, 2021 sentences/s\n",
      "2017-10-29 09:29:27,639 : INFO : scoring sentences with 3 workers on 86 vocabulary and 200 features, using sg=0 hs=1 sample=0.001 and negative=0\n",
      "2017-10-29 09:29:27,645 : INFO : reached end of input; waiting to finish 1 outstanding jobs\n",
      "2017-10-29 09:29:27,647 : INFO : scoring 10 sentences took 0.0s, 1694 sentences/s\n",
      "2017-10-29 09:29:27,648 : INFO : scoring sentences with 3 workers on 86 vocabulary and 200 features, using sg=0 hs=1 sample=0.001 and negative=0\n",
      "2017-10-29 09:29:27,652 : INFO : reached end of input; waiting to finish 1 outstanding jobs\n",
      "2017-10-29 09:29:27,654 : INFO : scoring 10 sentences took 0.0s, 2426 sentences/s\n",
      "2017-10-29 09:29:27,656 : INFO : scoring sentences with 3 workers on 86 vocabulary and 200 features, using sg=0 hs=1 sample=0.001 and negative=0\n",
      "2017-10-29 09:29:27,659 : INFO : reached end of input; waiting to finish 1 outstanding jobs\n",
      "2017-10-29 09:29:27,661 : INFO : scoring 10 sentences took 0.0s, 3161 sentences/s\n",
      "2017-10-29 09:29:27,662 : INFO : scoring sentences with 3 workers on 86 vocabulary and 200 features, using sg=0 hs=1 sample=0.001 and negative=0\n",
      "2017-10-29 09:29:27,666 : INFO : reached end of input; waiting to finish 1 outstanding jobs\n",
      "2017-10-29 09:29:27,669 : INFO : scoring 10 sentences took 0.0s, 1891 sentences/s\n",
      "2017-10-29 09:29:27,674 : INFO : scoring sentences with 3 workers on 86 vocabulary and 200 features, using sg=0 hs=1 sample=0.001 and negative=0\n"
     ]
    },
    {
     "name": "stderr",
     "output_type": "stream",
     "text": [
      "2017-10-29 09:29:27,679 : INFO : reached end of input; waiting to finish 1 outstanding jobs\n",
      "2017-10-29 09:29:27,680 : INFO : scoring 10 sentences took 0.0s, 3187 sentences/s\n",
      "2017-10-29 09:29:27,682 : INFO : scoring sentences with 3 workers on 86 vocabulary and 200 features, using sg=0 hs=1 sample=0.001 and negative=0\n",
      "2017-10-29 09:29:27,686 : INFO : reached end of input; waiting to finish 1 outstanding jobs\n",
      "2017-10-29 09:29:27,687 : INFO : scoring 10 sentences took 0.0s, 3096 sentences/s\n",
      "2017-10-29 09:29:27,689 : INFO : scoring sentences with 3 workers on 86 vocabulary and 200 features, using sg=0 hs=1 sample=0.001 and negative=0\n",
      "2017-10-29 09:29:27,693 : INFO : reached end of input; waiting to finish 1 outstanding jobs\n",
      "2017-10-29 09:29:27,694 : INFO : scoring 10 sentences took 0.0s, 3027 sentences/s\n",
      "2017-10-29 09:29:27,697 : INFO : scoring sentences with 3 workers on 86 vocabulary and 200 features, using sg=0 hs=1 sample=0.001 and negative=0\n",
      "2017-10-29 09:29:27,705 : INFO : reached end of input; waiting to finish 1 outstanding jobs\n",
      "2017-10-29 09:29:27,708 : INFO : scoring 10 sentences took 0.0s, 1111 sentences/s\n",
      "2017-10-29 09:29:27,710 : INFO : scoring sentences with 3 workers on 86 vocabulary and 200 features, using sg=0 hs=1 sample=0.001 and negative=0\n",
      "2017-10-29 09:29:27,713 : INFO : reached end of input; waiting to finish 1 outstanding jobs\n",
      "2017-10-29 09:29:27,714 : INFO : scoring 10 sentences took 0.0s, 3503 sentences/s\n",
      "2017-10-29 09:29:27,716 : INFO : scoring sentences with 3 workers on 86 vocabulary and 200 features, using sg=0 hs=1 sample=0.001 and negative=0\n",
      "2017-10-29 09:29:27,719 : INFO : reached end of input; waiting to finish 1 outstanding jobs\n",
      "2017-10-29 09:29:27,721 : INFO : scoring 10 sentences took 0.0s, 3013 sentences/s\n",
      "2017-10-29 09:29:27,723 : INFO : scoring sentences with 3 workers on 86 vocabulary and 200 features, using sg=0 hs=1 sample=0.001 and negative=0\n",
      "2017-10-29 09:29:27,726 : INFO : reached end of input; waiting to finish 1 outstanding jobs\n",
      "2017-10-29 09:29:27,727 : INFO : scoring 5 sentences took 0.0s, 1507 sentences/s\n",
      "2017-10-29 09:29:27,730 : INFO : scoring sentences with 3 workers on 86 vocabulary and 200 features, using sg=0 hs=1 sample=0.001 and negative=0\n",
      "2017-10-29 09:29:27,738 : INFO : reached end of input; waiting to finish 1 outstanding jobs\n",
      "2017-10-29 09:29:27,739 : INFO : scoring 10 sentences took 0.0s, 1521 sentences/s\n",
      "2017-10-29 09:29:27,741 : INFO : scoring sentences with 3 workers on 86 vocabulary and 200 features, using sg=0 hs=1 sample=0.001 and negative=0\n",
      "2017-10-29 09:29:27,744 : INFO : reached end of input; waiting to finish 1 outstanding jobs\n",
      "2017-10-29 09:29:27,747 : INFO : scoring 10 sentences took 0.0s, 2484 sentences/s\n",
      "2017-10-29 09:29:27,748 : INFO : scoring sentences with 3 workers on 86 vocabulary and 200 features, using sg=0 hs=1 sample=0.001 and negative=0\n",
      "2017-10-29 09:29:27,752 : INFO : reached end of input; waiting to finish 1 outstanding jobs\n",
      "2017-10-29 09:29:27,753 : INFO : scoring 10 sentences took 0.0s, 3186 sentences/s\n",
      "2017-10-29 09:29:27,755 : INFO : scoring sentences with 3 workers on 86 vocabulary and 200 features, using sg=0 hs=1 sample=0.001 and negative=0\n",
      "2017-10-29 09:29:27,759 : INFO : reached end of input; waiting to finish 1 outstanding jobs\n",
      "2017-10-29 09:29:27,762 : INFO : scoring 10 sentences took 0.0s, 2251 sentences/s\n",
      "2017-10-29 09:29:27,764 : INFO : scoring sentences with 3 workers on 86 vocabulary and 200 features, using sg=0 hs=1 sample=0.001 and negative=0\n",
      "2017-10-29 09:29:27,773 : INFO : reached end of input; waiting to finish 1 outstanding jobs\n",
      "2017-10-29 09:29:27,774 : INFO : scoring 10 sentences took 0.0s, 1236 sentences/s\n",
      "2017-10-29 09:29:27,776 : INFO : scoring sentences with 3 workers on 86 vocabulary and 200 features, using sg=0 hs=1 sample=0.001 and negative=0\n",
      "2017-10-29 09:29:27,780 : INFO : reached end of input; waiting to finish 1 outstanding jobs\n",
      "2017-10-29 09:29:27,783 : INFO : scoring 10 sentences took 0.0s, 2023 sentences/s\n",
      "2017-10-29 09:29:27,785 : INFO : scoring sentences with 3 workers on 86 vocabulary and 200 features, using sg=0 hs=1 sample=0.001 and negative=0\n",
      "2017-10-29 09:29:27,789 : INFO : reached end of input; waiting to finish 1 outstanding jobs\n",
      "2017-10-29 09:29:27,791 : INFO : scoring 10 sentences took 0.0s, 2287 sentences/s\n",
      "2017-10-29 09:29:27,794 : INFO : scoring sentences with 3 workers on 86 vocabulary and 200 features, using sg=0 hs=1 sample=0.001 and negative=0\n",
      "2017-10-29 09:29:27,799 : INFO : reached end of input; waiting to finish 1 outstanding jobs\n",
      "2017-10-29 09:29:27,803 : INFO : scoring 10 sentences took 0.0s, 1532 sentences/s\n",
      "2017-10-29 09:29:27,806 : INFO : scoring sentences with 3 workers on 86 vocabulary and 200 features, using sg=0 hs=1 sample=0.001 and negative=0\n",
      "2017-10-29 09:29:27,809 : INFO : reached end of input; waiting to finish 1 outstanding jobs\n",
      "2017-10-29 09:29:27,811 : INFO : scoring 10 sentences took 0.0s, 2751 sentences/s\n",
      "2017-10-29 09:29:27,814 : INFO : scoring sentences with 3 workers on 86 vocabulary and 200 features, using sg=0 hs=1 sample=0.001 and negative=0\n",
      "2017-10-29 09:29:27,819 : INFO : reached end of input; waiting to finish 1 outstanding jobs\n",
      "2017-10-29 09:29:27,822 : INFO : scoring 10 sentences took 0.0s, 1608 sentences/s\n",
      "2017-10-29 09:29:27,827 : INFO : scoring sentences with 3 workers on 86 vocabulary and 200 features, using sg=0 hs=1 sample=0.001 and negative=0\n",
      "2017-10-29 09:29:27,830 : INFO : reached end of input; waiting to finish 1 outstanding jobs\n",
      "2017-10-29 09:29:27,832 : INFO : scoring 10 sentences took 0.0s, 2591 sentences/s\n",
      "2017-10-29 09:29:27,834 : INFO : scoring sentences with 3 workers on 86 vocabulary and 200 features, using sg=0 hs=1 sample=0.001 and negative=0\n",
      "2017-10-29 09:29:27,837 : INFO : reached end of input; waiting to finish 1 outstanding jobs\n",
      "2017-10-29 09:29:27,840 : INFO : scoring 10 sentences took 0.0s, 2216 sentences/s\n",
      "2017-10-29 09:29:27,841 : INFO : scoring sentences with 3 workers on 86 vocabulary and 200 features, using sg=0 hs=1 sample=0.001 and negative=0\n",
      "2017-10-29 09:29:27,844 : INFO : reached end of input; waiting to finish 1 outstanding jobs\n",
      "2017-10-29 09:29:27,846 : INFO : scoring 10 sentences took 0.0s, 3307 sentences/s\n",
      "2017-10-29 09:29:27,848 : INFO : scoring sentences with 3 workers on 86 vocabulary and 200 features, using sg=0 hs=1 sample=0.001 and negative=0\n",
      "2017-10-29 09:29:27,854 : INFO : reached end of input; waiting to finish 1 outstanding jobs\n",
      "2017-10-29 09:29:27,857 : INFO : scoring 6 sentences took 0.0s, 912 sentences/s\n",
      "2017-10-29 09:29:27,862 : INFO : scoring sentences with 3 workers on 86 vocabulary and 200 features, using sg=0 hs=1 sample=0.001 and negative=0\n",
      "2017-10-29 09:29:27,866 : INFO : reached end of input; waiting to finish 1 outstanding jobs\n",
      "2017-10-29 09:29:27,867 : INFO : scoring 10 sentences took 0.0s, 3151 sentences/s\n",
      "2017-10-29 09:29:27,869 : INFO : scoring sentences with 3 workers on 86 vocabulary and 200 features, using sg=0 hs=1 sample=0.001 and negative=0\n",
      "2017-10-29 09:29:27,872 : INFO : reached end of input; waiting to finish 1 outstanding jobs\n",
      "2017-10-29 09:29:27,874 : INFO : scoring 5 sentences took 0.0s, 1591 sentences/s\n",
      "2017-10-29 09:29:27,876 : INFO : scoring sentences with 3 workers on 86 vocabulary and 200 features, using sg=0 hs=1 sample=0.001 and negative=0\n",
      "2017-10-29 09:29:27,880 : INFO : reached end of input; waiting to finish 1 outstanding jobs\n",
      "2017-10-29 09:29:27,883 : INFO : scoring 10 sentences took 0.0s, 1855 sentences/s\n",
      "2017-10-29 09:29:27,888 : INFO : scoring sentences with 3 workers on 86 vocabulary and 200 features, using sg=0 hs=1 sample=0.001 and negative=0\n",
      "2017-10-29 09:29:27,892 : INFO : reached end of input; waiting to finish 1 outstanding jobs\n",
      "2017-10-29 09:29:27,893 : INFO : scoring 10 sentences took 0.0s, 3276 sentences/s\n",
      "2017-10-29 09:29:27,895 : INFO : scoring sentences with 3 workers on 86 vocabulary and 200 features, using sg=0 hs=1 sample=0.001 and negative=0\n",
      "2017-10-29 09:29:27,898 : INFO : reached end of input; waiting to finish 1 outstanding jobs\n",
      "2017-10-29 09:29:27,900 : INFO : scoring 10 sentences took 0.0s, 3147 sentences/s\n",
      "2017-10-29 09:29:27,902 : INFO : scoring sentences with 3 workers on 86 vocabulary and 200 features, using sg=0 hs=1 sample=0.001 and negative=0\n"
     ]
    },
    {
     "name": "stderr",
     "output_type": "stream",
     "text": [
      "2017-10-29 09:29:27,905 : INFO : reached end of input; waiting to finish 1 outstanding jobs\n",
      "2017-10-29 09:29:27,908 : INFO : scoring 10 sentences took 0.0s, 2380 sentences/s\n",
      "2017-10-29 09:29:27,911 : INFO : scoring sentences with 3 workers on 86 vocabulary and 200 features, using sg=0 hs=1 sample=0.001 and negative=0\n",
      "2017-10-29 09:29:27,919 : INFO : reached end of input; waiting to finish 1 outstanding jobs\n",
      "2017-10-29 09:29:27,925 : INFO : scoring 10 sentences took 0.0s, 847 sentences/s\n",
      "2017-10-29 09:29:27,928 : INFO : scoring sentences with 3 workers on 86 vocabulary and 200 features, using sg=0 hs=1 sample=0.001 and negative=0\n",
      "2017-10-29 09:29:27,932 : INFO : reached end of input; waiting to finish 1 outstanding jobs\n",
      "2017-10-29 09:29:27,933 : INFO : scoring 10 sentences took 0.0s, 3345 sentences/s\n",
      "2017-10-29 09:29:27,935 : INFO : scoring sentences with 3 workers on 86 vocabulary and 200 features, using sg=0 hs=1 sample=0.001 and negative=0\n",
      "2017-10-29 09:29:27,939 : INFO : reached end of input; waiting to finish 1 outstanding jobs\n",
      "2017-10-29 09:29:27,942 : INFO : scoring 10 sentences took 0.0s, 2230 sentences/s\n",
      "2017-10-29 09:29:27,943 : INFO : scoring sentences with 3 workers on 86 vocabulary and 200 features, using sg=0 hs=1 sample=0.001 and negative=0\n",
      "2017-10-29 09:29:27,952 : INFO : reached end of input; waiting to finish 1 outstanding jobs\n",
      "2017-10-29 09:29:27,955 : INFO : scoring 10 sentences took 0.0s, 968 sentences/s\n",
      "2017-10-29 09:29:27,958 : INFO : scoring sentences with 3 workers on 86 vocabulary and 200 features, using sg=0 hs=1 sample=0.001 and negative=0\n",
      "2017-10-29 09:29:27,962 : INFO : reached end of input; waiting to finish 1 outstanding jobs\n",
      "2017-10-29 09:29:27,964 : INFO : scoring 10 sentences took 0.0s, 3155 sentences/s\n",
      "2017-10-29 09:29:27,966 : INFO : scoring sentences with 3 workers on 86 vocabulary and 200 features, using sg=0 hs=1 sample=0.001 and negative=0\n",
      "2017-10-29 09:29:27,969 : INFO : reached end of input; waiting to finish 1 outstanding jobs\n",
      "2017-10-29 09:29:27,973 : INFO : scoring 10 sentences took 0.0s, 1713 sentences/s\n",
      "2017-10-29 09:29:27,975 : INFO : scoring sentences with 3 workers on 86 vocabulary and 200 features, using sg=0 hs=1 sample=0.001 and negative=0\n",
      "2017-10-29 09:29:27,981 : INFO : reached end of input; waiting to finish 1 outstanding jobs\n",
      "2017-10-29 09:29:27,985 : INFO : scoring 10 sentences took 0.0s, 1477 sentences/s\n",
      "2017-10-29 09:29:27,989 : INFO : scoring sentences with 3 workers on 86 vocabulary and 200 features, using sg=0 hs=1 sample=0.001 and negative=0\n",
      "2017-10-29 09:29:27,994 : INFO : reached end of input; waiting to finish 1 outstanding jobs\n",
      "2017-10-29 09:29:27,997 : INFO : scoring 10 sentences took 0.0s, 2060 sentences/s\n",
      "2017-10-29 09:29:27,998 : INFO : scoring sentences with 3 workers on 86 vocabulary and 200 features, using sg=0 hs=1 sample=0.001 and negative=0\n",
      "2017-10-29 09:29:28,001 : INFO : reached end of input; waiting to finish 1 outstanding jobs\n",
      "2017-10-29 09:29:28,003 : INFO : scoring 10 sentences took 0.0s, 2646 sentences/s\n",
      "2017-10-29 09:29:28,009 : INFO : scoring sentences with 3 workers on 86 vocabulary and 200 features, using sg=0 hs=1 sample=0.001 and negative=0\n",
      "2017-10-29 09:29:28,017 : INFO : reached end of input; waiting to finish 1 outstanding jobs\n",
      "2017-10-29 09:29:28,019 : INFO : scoring 10 sentences took 0.0s, 1483 sentences/s\n",
      "2017-10-29 09:29:28,024 : INFO : scoring sentences with 3 workers on 86 vocabulary and 200 features, using sg=0 hs=1 sample=0.001 and negative=0\n",
      "2017-10-29 09:29:28,027 : INFO : reached end of input; waiting to finish 1 outstanding jobs\n",
      "2017-10-29 09:29:28,028 : INFO : scoring 10 sentences took 0.0s, 3573 sentences/s\n",
      "2017-10-29 09:29:28,030 : INFO : scoring sentences with 3 workers on 86 vocabulary and 200 features, using sg=0 hs=1 sample=0.001 and negative=0\n",
      "2017-10-29 09:29:28,035 : INFO : reached end of input; waiting to finish 1 outstanding jobs\n",
      "2017-10-29 09:29:28,038 : INFO : scoring 10 sentences took 0.0s, 1765 sentences/s\n",
      "2017-10-29 09:29:28,040 : INFO : scoring sentences with 3 workers on 86 vocabulary and 200 features, using sg=0 hs=1 sample=0.001 and negative=0\n",
      "2017-10-29 09:29:28,044 : INFO : reached end of input; waiting to finish 1 outstanding jobs\n",
      "2017-10-29 09:29:28,045 : INFO : scoring 10 sentences took 0.0s, 3338 sentences/s\n",
      "2017-10-29 09:29:28,047 : INFO : scoring sentences with 3 workers on 86 vocabulary and 200 features, using sg=0 hs=1 sample=0.001 and negative=0\n",
      "2017-10-29 09:29:28,055 : INFO : reached end of input; waiting to finish 1 outstanding jobs\n",
      "2017-10-29 09:29:28,058 : INFO : scoring 10 sentences took 0.0s, 1219 sentences/s\n",
      "2017-10-29 09:29:28,060 : INFO : scoring sentences with 3 workers on 86 vocabulary and 200 features, using sg=0 hs=1 sample=0.001 and negative=0\n",
      "2017-10-29 09:29:28,064 : INFO : reached end of input; waiting to finish 1 outstanding jobs\n",
      "2017-10-29 09:29:28,065 : INFO : scoring 8 sentences took 0.0s, 2366 sentences/s\n",
      "2017-10-29 09:29:28,067 : INFO : scoring sentences with 3 workers on 86 vocabulary and 200 features, using sg=0 hs=1 sample=0.001 and negative=0\n",
      "2017-10-29 09:29:28,073 : INFO : reached end of input; waiting to finish 1 outstanding jobs\n",
      "2017-10-29 09:29:28,076 : INFO : scoring 10 sentences took 0.0s, 1392 sentences/s\n",
      "2017-10-29 09:29:28,078 : INFO : scoring sentences with 3 workers on 86 vocabulary and 200 features, using sg=0 hs=1 sample=0.001 and negative=0\n",
      "2017-10-29 09:29:28,083 : INFO : reached end of input; waiting to finish 1 outstanding jobs\n",
      "2017-10-29 09:29:28,084 : INFO : scoring 10 sentences took 0.0s, 1917 sentences/s\n",
      "2017-10-29 09:29:28,087 : INFO : scoring sentences with 3 workers on 86 vocabulary and 200 features, using sg=0 hs=1 sample=0.001 and negative=0\n",
      "2017-10-29 09:29:28,091 : INFO : reached end of input; waiting to finish 1 outstanding jobs\n",
      "2017-10-29 09:29:28,093 : INFO : scoring 10 sentences took 0.0s, 2280 sentences/s\n",
      "2017-10-29 09:29:28,095 : INFO : scoring sentences with 3 workers on 86 vocabulary and 200 features, using sg=0 hs=1 sample=0.001 and negative=0\n",
      "2017-10-29 09:29:28,101 : INFO : reached end of input; waiting to finish 1 outstanding jobs\n",
      "2017-10-29 09:29:28,106 : INFO : scoring 10 sentences took 0.0s, 1198 sentences/s\n",
      "2017-10-29 09:29:28,109 : INFO : scoring sentences with 3 workers on 86 vocabulary and 200 features, using sg=0 hs=1 sample=0.001 and negative=0\n",
      "2017-10-29 09:29:28,114 : INFO : reached end of input; waiting to finish 1 outstanding jobs\n",
      "2017-10-29 09:29:28,116 : INFO : scoring 10 sentences took 0.0s, 1971 sentences/s\n",
      "2017-10-29 09:29:28,119 : INFO : scoring sentences with 3 workers on 86 vocabulary and 200 features, using sg=0 hs=1 sample=0.001 and negative=0\n",
      "2017-10-29 09:29:28,124 : INFO : reached end of input; waiting to finish 1 outstanding jobs\n",
      "2017-10-29 09:29:28,126 : INFO : scoring 10 sentences took 0.0s, 2032 sentences/s\n",
      "2017-10-29 09:29:28,129 : INFO : scoring sentences with 3 workers on 86 vocabulary and 200 features, using sg=0 hs=1 sample=0.001 and negative=0\n",
      "2017-10-29 09:29:28,132 : INFO : reached end of input; waiting to finish 1 outstanding jobs\n",
      "2017-10-29 09:29:28,134 : INFO : scoring 10 sentences took 0.0s, 2535 sentences/s\n",
      "2017-10-29 09:29:28,138 : INFO : scoring sentences with 3 workers on 86 vocabulary and 200 features, using sg=0 hs=1 sample=0.001 and negative=0\n",
      "2017-10-29 09:29:28,141 : INFO : reached end of input; waiting to finish 1 outstanding jobs\n",
      "2017-10-29 09:29:28,142 : INFO : scoring 10 sentences took 0.0s, 3467 sentences/s\n",
      "2017-10-29 09:29:28,144 : INFO : scoring sentences with 3 workers on 86 vocabulary and 200 features, using sg=0 hs=1 sample=0.001 and negative=0\n",
      "2017-10-29 09:29:28,151 : INFO : reached end of input; waiting to finish 1 outstanding jobs\n",
      "2017-10-29 09:29:28,153 : INFO : scoring 10 sentences took 0.0s, 1505 sentences/s\n",
      "2017-10-29 09:29:28,156 : INFO : scoring sentences with 3 workers on 86 vocabulary and 200 features, using sg=0 hs=1 sample=0.001 and negative=0\n",
      "2017-10-29 09:29:28,163 : INFO : reached end of input; waiting to finish 1 outstanding jobs\n",
      "2017-10-29 09:29:28,167 : INFO : scoring 10 sentences took 0.0s, 1124 sentences/s\n"
     ]
    },
    {
     "name": "stderr",
     "output_type": "stream",
     "text": [
      "2017-10-29 09:29:28,168 : INFO : scoring sentences with 3 workers on 86 vocabulary and 200 features, using sg=0 hs=1 sample=0.001 and negative=0\n",
      "2017-10-29 09:29:28,174 : INFO : reached end of input; waiting to finish 1 outstanding jobs\n",
      "2017-10-29 09:29:28,176 : INFO : scoring 10 sentences took 0.0s, 3744 sentences/s\n",
      "2017-10-29 09:29:28,178 : INFO : scoring sentences with 3 workers on 86 vocabulary and 200 features, using sg=0 hs=1 sample=0.001 and negative=0\n",
      "2017-10-29 09:29:28,184 : INFO : reached end of input; waiting to finish 1 outstanding jobs\n",
      "2017-10-29 09:29:28,188 : INFO : scoring 10 sentences took 0.0s, 1372 sentences/s\n",
      "2017-10-29 09:29:28,190 : INFO : scoring sentences with 3 workers on 86 vocabulary and 200 features, using sg=0 hs=1 sample=0.001 and negative=0\n",
      "2017-10-29 09:29:28,194 : INFO : reached end of input; waiting to finish 1 outstanding jobs\n",
      "2017-10-29 09:29:28,196 : INFO : scoring 10 sentences took 0.0s, 2308 sentences/s\n",
      "2017-10-29 09:29:28,198 : INFO : scoring sentences with 3 workers on 86 vocabulary and 200 features, using sg=0 hs=1 sample=0.001 and negative=0\n",
      "2017-10-29 09:29:28,202 : INFO : reached end of input; waiting to finish 1 outstanding jobs\n",
      "2017-10-29 09:29:28,206 : INFO : scoring 10 sentences took 0.0s, 1628 sentences/s\n",
      "2017-10-29 09:29:28,208 : INFO : scoring sentences with 3 workers on 86 vocabulary and 200 features, using sg=0 hs=1 sample=0.001 and negative=0\n",
      "2017-10-29 09:29:28,213 : INFO : reached end of input; waiting to finish 1 outstanding jobs\n",
      "2017-10-29 09:29:28,216 : INFO : scoring 10 sentences took 0.0s, 1624 sentences/s\n",
      "2017-10-29 09:29:28,218 : INFO : scoring sentences with 3 workers on 86 vocabulary and 200 features, using sg=0 hs=1 sample=0.001 and negative=0\n",
      "2017-10-29 09:29:28,225 : INFO : reached end of input; waiting to finish 1 outstanding jobs\n",
      "2017-10-29 09:29:28,227 : INFO : scoring 10 sentences took 0.0s, 1544 sentences/s\n",
      "2017-10-29 09:29:28,229 : INFO : scoring sentences with 3 workers on 86 vocabulary and 200 features, using sg=0 hs=1 sample=0.001 and negative=0\n",
      "2017-10-29 09:29:28,233 : INFO : reached end of input; waiting to finish 1 outstanding jobs\n",
      "2017-10-29 09:29:28,234 : INFO : scoring 5 sentences took 0.0s, 1839 sentences/s\n",
      "2017-10-29 09:29:28,238 : INFO : scoring sentences with 3 workers on 86 vocabulary and 200 features, using sg=0 hs=1 sample=0.001 and negative=0\n",
      "2017-10-29 09:29:28,245 : INFO : reached end of input; waiting to finish 1 outstanding jobs\n",
      "2017-10-29 09:29:28,248 : INFO : scoring 10 sentences took 0.0s, 1364 sentences/s\n",
      "2017-10-29 09:29:28,250 : INFO : scoring sentences with 3 workers on 86 vocabulary and 200 features, using sg=0 hs=1 sample=0.001 and negative=0\n",
      "2017-10-29 09:29:28,256 : INFO : reached end of input; waiting to finish 1 outstanding jobs\n",
      "2017-10-29 09:29:28,259 : INFO : scoring 10 sentences took 0.0s, 1311 sentences/s\n",
      "2017-10-29 09:29:28,261 : INFO : scoring sentences with 3 workers on 86 vocabulary and 200 features, using sg=0 hs=1 sample=0.001 and negative=0\n",
      "2017-10-29 09:29:28,265 : INFO : reached end of input; waiting to finish 1 outstanding jobs\n",
      "2017-10-29 09:29:28,266 : INFO : scoring 10 sentences took 0.0s, 2957 sentences/s\n",
      "2017-10-29 09:29:28,268 : INFO : scoring sentences with 3 workers on 86 vocabulary and 200 features, using sg=0 hs=1 sample=0.001 and negative=0\n",
      "2017-10-29 09:29:28,279 : INFO : reached end of input; waiting to finish 1 outstanding jobs\n",
      "2017-10-29 09:29:28,282 : INFO : scoring 10 sentences took 0.0s, 1264 sentences/s\n",
      "2017-10-29 09:29:28,283 : INFO : scoring sentences with 3 workers on 86 vocabulary and 200 features, using sg=0 hs=1 sample=0.001 and negative=0\n",
      "2017-10-29 09:29:28,289 : INFO : reached end of input; waiting to finish 1 outstanding jobs\n",
      "2017-10-29 09:29:28,292 : INFO : scoring 10 sentences took 0.0s, 1405 sentences/s\n",
      "2017-10-29 09:29:28,294 : INFO : scoring sentences with 3 workers on 86 vocabulary and 200 features, using sg=0 hs=1 sample=0.001 and negative=0\n",
      "2017-10-29 09:29:28,301 : INFO : reached end of input; waiting to finish 1 outstanding jobs\n",
      "2017-10-29 09:29:28,304 : INFO : scoring 10 sentences took 0.0s, 1194 sentences/s\n",
      "2017-10-29 09:29:28,306 : INFO : scoring sentences with 3 workers on 86 vocabulary and 200 features, using sg=0 hs=1 sample=0.001 and negative=0\n",
      "2017-10-29 09:29:28,310 : INFO : reached end of input; waiting to finish 1 outstanding jobs\n",
      "2017-10-29 09:29:28,312 : INFO : scoring 10 sentences took 0.0s, 3093 sentences/s\n",
      "2017-10-29 09:29:28,313 : INFO : scoring sentences with 3 workers on 86 vocabulary and 200 features, using sg=0 hs=1 sample=0.001 and negative=0\n",
      "2017-10-29 09:29:28,317 : INFO : reached end of input; waiting to finish 1 outstanding jobs\n",
      "2017-10-29 09:29:28,321 : INFO : scoring 10 sentences took 0.0s, 1756 sentences/s\n",
      "2017-10-29 09:29:28,323 : INFO : scoring sentences with 3 workers on 86 vocabulary and 200 features, using sg=0 hs=1 sample=0.001 and negative=0\n",
      "2017-10-29 09:29:28,328 : INFO : reached end of input; waiting to finish 1 outstanding jobs\n",
      "2017-10-29 09:29:28,331 : INFO : scoring 10 sentences took 0.0s, 1920 sentences/s\n",
      "2017-10-29 09:29:28,333 : INFO : scoring sentences with 3 workers on 86 vocabulary and 200 features, using sg=0 hs=1 sample=0.001 and negative=0\n",
      "2017-10-29 09:29:28,340 : INFO : reached end of input; waiting to finish 1 outstanding jobs\n",
      "2017-10-29 09:29:28,342 : INFO : scoring 3 sentences took 0.0s, 450 sentences/s\n"
     ]
    }
   ],
   "source": [
    "letter_score = []\n",
    "for letter in key_list:\n",
    "    if len(letter) == 0:\n",
    "        pass\n",
    "    else:\n",
    "        score = model.score(letter.split())\n",
    "        letter_score.append(score.reshape(1, score.shape[0]))"
   ]
  },
  {
   "cell_type": "code",
   "execution_count": 20,
   "metadata": {
    "collapsed": true
   },
   "outputs": [],
   "source": [
    "fraud_kw_vec = [-0.59686035,-0.6725697,-0.69134709,-0.62265558,-0.59475399,-0.69835925,\n",
    "                -0.67224162,-0.67393852,-0.67712811,-0.58945206]"
   ]
  },
  {
   "cell_type": "code",
   "execution_count": 21,
   "metadata": {},
   "outputs": [
    {
     "name": "stdout",
     "output_type": "stream",
     "text": [
      "0.953370926155\n"
     ]
    }
   ],
   "source": [
    "# Cosine Similarity\n",
    "\n",
    "from scipy import spatial\n",
    "\n",
    "ratio_fraud = 1 - spatial.distance.cosine(fraud_kw_vec[:len(letter_score[-1][0])], letter_score[-1])\n",
    "print (ratio_fraud)"
   ]
  },
  {
   "cell_type": "code",
   "execution_count": null,
   "metadata": {
    "collapsed": true
   },
   "outputs": [],
   "source": []
  }
 ],
 "metadata": {
  "kernelspec": {
   "display_name": "Python 3",
   "language": "python",
   "name": "python3"
  },
  "language_info": {
   "codemirror_mode": {
    "name": "ipython",
    "version": 3
   },
   "file_extension": ".py",
   "mimetype": "text/x-python",
   "name": "python",
   "nbconvert_exporter": "python",
   "pygments_lexer": "ipython3",
   "version": "3.6.3"
  }
 },
 "nbformat": 4,
 "nbformat_minor": 2
}
