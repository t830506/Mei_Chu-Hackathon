{
 "cells": [
  {
   "cell_type": "code",
   "execution_count": 31,
   "metadata": {
    "collapsed": true
   },
   "outputs": [],
   "source": [
    "import pandas as pd"
   ]
  },
  {
   "cell_type": "markdown",
   "metadata": {},
   "source": [
    "### Hint 1: Feature Engineering is More Important Then You Expected"
   ]
  },
  {
   "cell_type": "code",
   "execution_count": 14,
   "metadata": {
    "collapsed": true
   },
   "outputs": [
    {
     "name": "stdout",
     "output_type": "stream",
     "text": [
      "Program 1\n",
      "Episodes: 1299\n",
      "Index(['Content'], dtype='object')\n",
      "0    還好天氣不錯\\n昨天晚上的流星雨\\n我看到很多流星\\n這次的收穫真豐富\\n當然豐富啦\\n我就...\n",
      "1    好熱喔\\n這種倉庫很不通風\\n好熱喔\\n受不了\\n今天天氣真的是太熱了\\n我都快中暑了\\n那...\n",
      "Name: Content, dtype: object\n",
      "\n",
      "Program 2\n",
      "Episodes: 205\n",
      "Index(['Content'], dtype='object')\n",
      "0    我們現在只差兩分\\n只差兩分\\n等下阿偉先站過來\\n他們會埋伏一個射手出來\\n我們盡量把他堵...\n",
      "1    四十年前\\n我媽為了養我跟我哥\\n開這間理髮店\\n她把手藝都傳給哥\\n希望他可以接下這間店\\...\n",
      "Name: Content, dtype: object\n",
      "\n",
      "Program 3\n",
      "Episodes: 57\n",
      "Index(['Content'], dtype='object')\n",
      "0    台南人劇團\\n一個從古都台南輸出的\\n現代劇團\\n每年總有令人驚奇的戲劇產生\\n玩大師\\n莎...\n",
      "1    一齣舞台劇\\n這個舞台劇的結果\\n所有觀眾都知道\\n兩個演員在舞台上\\n撐了一百多分鐘\\n目...\n",
      "Name: Content, dtype: object\n",
      "\n",
      "Program 4\n",
      "Episodes: 10\n",
      "Index(['Content'], dtype='object')\n",
      "0    念書幹嘛偷光\\n燈一開就有了啊\\n太陽是不是從樹葉之間的\\n這個縫灑下來\\n然後在地上啊\\n...\n",
      "1    倫語社\\n效果立竿見影\\n立竿見影\\n這也是指很快囉\\n但是它和曇花一現\\n有什麼不一樣\\n...\n",
      "Name: Content, dtype: object\n",
      "\n",
      "Program 5\n",
      "Episodes: 369\n",
      "Index(['Content'], dtype='object')\n",
      "0    公平的對待\\n孩子才會樂於做良性的競爭\\n這樣一來\\n真正有實力的人才不會被埋沒\\n老師好\\...\n",
      "1    你們看\\n我臉上的痘痘\\n畫了粧之後就沒那麼明顯了\\n就算熬夜K書\\n長了黑眼圈也不怕\\n你...\n",
      "Name: Content, dtype: object\n",
      "\n",
      "Program 6\n",
      "Episodes: 80\n",
      "Index(['Content'], dtype='object')\n",
      "0    在這個世上\\n既能解放你滿肚子壓力\\n又讓你避之唯恐不及的\\n只有馬桶\\n但是如果你到現在還...\n",
      "1    你相信嗎\\n全球十大致人於死的動物榜首是誰\\n獅子嗎\\n不是\\n鱷魚嗎\\nNo\\n答案竟然是...\n",
      "Name: Content, dtype: object\n",
      "\n",
      "Program 7\n",
      "Episodes: 611\n",
      "Index(['Content'], dtype='object')\n",
      "0    嗨, 大家好\\n歡迎收看「聽聽看」\\n你這個禮拜過得好不好呢\\n有沒有什麼新鮮事\\n要和朋友...\n",
      "1    你今天是不是跟我一樣\\n早就迫不及待的\\n想要收看我們「聽聽看」了呢\\n怎麼樣\\n上個禮拜的...\n",
      "Name: Content, dtype: object\n",
      "\n",
      "Program 8\n",
      "Episodes: 210\n",
      "Index(['Content'], dtype='object')\n",
      "0    每天帶你拜訪一個家庭\\n邀請一位貴賓和他們共進晚餐\\n談談人生大小事\\n但如果登門拜訪的\\n...\n",
      "1    如果用一句話\\n來形容吃飯這件事情\\n那句話應該就是體驗人生\\n今天的「誰來晚餐」\\n發生在...\n",
      "Name: Content, dtype: object\n",
      "\n"
     ]
    }
   ],
   "source": [
    "NUM_PROGRAM = 8\n",
    "programs = []\n",
    "for i in range(1, NUM_PROGRAM+1):\n",
    "    program = pd.read_csv('Program0%d.csv' % (i), engine='python', encoding='utf-8')\n",
    "    \n",
    "    print('Program %d' % (i))\n",
    "    print('Episodes: %d' % (len(program)))\n",
    "    print(program.columns)\n",
    "    print(program.loc[:1]['Content'])\n",
    "    print('')\n",
    "    \n",
    "    programs.append(program)"
   ]
  },
  {
   "cell_type": "code",
   "execution_count": 17,
   "metadata": {},
   "outputs": [
    {
     "name": "stdout",
     "output_type": "stream",
     "text": [
      "Question\n",
      "Episodes: 500\n",
      "Index(['Question', 'Option0', 'Option1', 'Option2', 'Option3', 'Option4',\n",
      "       'Option5'],\n",
      "      dtype='object')\n"
     ]
    },
    {
     "data": {
      "text/html": [
       "<div>\n",
       "<style>\n",
       "    .dataframe thead tr:only-child th {\n",
       "        text-align: right;\n",
       "    }\n",
       "\n",
       "    .dataframe thead th {\n",
       "        text-align: left;\n",
       "    }\n",
       "\n",
       "    .dataframe tbody tr th {\n",
       "        vertical-align: top;\n",
       "    }\n",
       "</style>\n",
       "<table border=\"1\" class=\"dataframe\">\n",
       "  <thead>\n",
       "    <tr style=\"text-align: right;\">\n",
       "      <th></th>\n",
       "      <th>Question</th>\n",
       "      <th>Option0</th>\n",
       "      <th>Option1</th>\n",
       "      <th>Option2</th>\n",
       "      <th>Option3</th>\n",
       "      <th>Option4</th>\n",
       "      <th>Option5</th>\n",
       "    </tr>\n",
       "  </thead>\n",
       "  <tbody>\n",
       "    <tr>\n",
       "      <th>0</th>\n",
       "      <td>媽給你送錢包來啦 來 你看一下是不是這個\\n對 就是這個 你在哪裡找到它的\\n</td>\n",
       "      <td>你看 這是我新買的錢包</td>\n",
       "      <td>我的錢包不見了啦</td>\n",
       "      <td>以後上網咖的錢包在我身上</td>\n",
       "      <td>什麼有錢包場</td>\n",
       "      <td>早上你爸爸在車上找到的 一定是前天你放學的時候掉在車上了</td>\n",
       "      <td>我為什麼要給你們錢包</td>\n",
       "    </tr>\n",
       "    <tr>\n",
       "      <th>1</th>\n",
       "      <td>古人說三日不讀書 面目可憎 我覺得我最近可能臉色太難看了\\n</td>\n",
       "      <td>所以想回復我昔日面貌姣好的樣子</td>\n",
       "      <td>是不是要定期來舉辦</td>\n",
       "      <td>各辦理一次才對</td>\n",
       "      <td>能夠督促所有的用人機關</td>\n",
       "      <td>在上次的節目討論中也有提到</td>\n",
       "      <td>超過九十分貝以上</td>\n",
       "    </tr>\n",
       "  </tbody>\n",
       "</table>\n",
       "</div>"
      ],
      "text/plain": [
       "                                  Question          Option0    Option1  \\\n",
       "0  媽給你送錢包來啦 來 你看一下是不是這個\\n對 就是這個 你在哪裡找到它的\\n      你看 這是我新買的錢包   我的錢包不見了啦   \n",
       "1           古人說三日不讀書 面目可憎 我覺得我最近可能臉色太難看了\\n  所以想回復我昔日面貌姣好的樣子  是不是要定期來舉辦   \n",
       "\n",
       "        Option2      Option3                       Option4     Option5  \n",
       "0  以後上網咖的錢包在我身上       什麼有錢包場  早上你爸爸在車上找到的 一定是前天你放學的時候掉在車上了  我為什麼要給你們錢包  \n",
       "1       各辦理一次才對  能夠督促所有的用人機關                 在上次的節目討論中也有提到    超過九十分貝以上  "
      ]
     },
     "execution_count": 17,
     "metadata": {},
     "output_type": "execute_result"
    }
   ],
   "source": [
    "questions = pd.read_csv('Question.csv', engine='python', encoding='utf-8')\n",
    "\n",
    "print('Question')\n",
    "print('Episodes: %d' % (len(questions)))\n",
    "print(questions.columns)\n",
    "questions.head(2)"
   ]
  },
  {
   "cell_type": "markdown",
   "metadata": {},
   "source": [
    "#### Preprocessing: Cut Words"
   ]
  },
  {
   "cell_type": "code",
   "execution_count": 23,
   "metadata": {
    "collapsed": true
   },
   "outputs": [],
   "source": [
    "import jieba\n",
    "\n",
    "jieba.set_dictionary('big5_dict.txt')"
   ]
  },
  {
   "cell_type": "code",
   "execution_count": 24,
   "metadata": {},
   "outputs": [
    {
     "name": "stderr",
     "output_type": "stream",
     "text": [
      "Building prefix dict from C:\\Users\\stat_pc\\Desktop\\contest1\\big5_dict.txt ...\n",
      "Dumping model to file cache C:\\Users\\stat_pc\\AppData\\Local\\Temp\\jieba.uf12278303475cfbfc8e7b2d29c306d01.cache\n",
      "Loading model cost 0.974 seconds.\n",
      "Prefix dict has been built succesfully.\n"
     ]
    },
    {
     "name": "stdout",
     "output_type": "stream",
     "text": [
      "['我', '討厭', '吃', '蘋果']\n"
     ]
    }
   ],
   "source": [
    "example_str = '我討厭吃蘋果'\n",
    "cut_example_str = jieba.lcut(example_str)\n",
    "\n",
    "print(cut_example_str)"
   ]
  },
  {
   "cell_type": "code",
   "execution_count": 25,
   "metadata": {
    "collapsed": true
   },
   "outputs": [],
   "source": [
    "def jieba_lines(lines):\n",
    "    cut_lines = []\n",
    "    \n",
    "    for line in lines:\n",
    "        cut_line = jieba.lcut(line)\n",
    "        cut_lines.append(cut_line)\n",
    "    \n",
    "    return cut_lines"
   ]
  },
  {
   "cell_type": "code",
   "execution_count": 26,
   "metadata": {
    "collapsed": true
   },
   "outputs": [],
   "source": [
    "cut_programs = []\n",
    "\n",
    "for program in programs:\n",
    "    n = len(program)\n",
    "    cut_program = []\n",
    "    \n",
    "    for i in range(n):\n",
    "        lines = program.loc[i]['Content'].split('\\n')\n",
    "        cut_program.append(jieba_lines(lines))\n",
    "    \n",
    "    cut_programs.append(cut_program)"
   ]
  },
  {
   "cell_type": "code",
   "execution_count": 27,
   "metadata": {},
   "outputs": [
    {
     "name": "stdout",
     "output_type": "stream",
     "text": [
      "8\n",
      "1299\n",
      "635\n",
      "[['還好', '天氣', '不錯'], ['昨天', '晚上', '的', '流星雨'], ['我', '看', '到', '很', '多', '流星']]\n"
     ]
    }
   ],
   "source": [
    "print(len(cut_programs))\n",
    "print(len(cut_programs[0]))\n",
    "print(len(cut_programs[0][0]))\n",
    "print(cut_programs[0][0][:3])"
   ]
  },
  {
   "cell_type": "code",
   "execution_count": 28,
   "metadata": {
    "collapsed": true
   },
   "outputs": [],
   "source": [
    "cut_questions = []\n",
    "n = len(questions)\n",
    "\n",
    "for i in range(n):\n",
    "    cut_question = []\n",
    "    lines = questions.loc[i]['Question'].split('\\n')\n",
    "    cut_question.append(jieba_lines(lines))\n",
    "    \n",
    "    for i in range(6):\n",
    "        line = questions.loc[i]['Option%d' % (i)]\n",
    "        cut_question.append(jieba.lcut(line))\n",
    "    \n",
    "    cut_questions.append(cut_question)"
   ]
  },
  {
   "cell_type": "code",
   "execution_count": 29,
   "metadata": {},
   "outputs": [
    {
     "name": "stdout",
     "output_type": "stream",
     "text": [
      "500\n",
      "7\n",
      "[['媽給', '你', '送', '錢', '包來', '啦', ' ', '來', ' ', '你', '看', '一下', '是', '不', '是', '這個'], ['對', ' ', '就', '是', '這個', ' ', '你', '在', '哪裡', '找', '到', '它', '的'], []]\n",
      "['你', '看', ' ', '這是', '我', '新', '買', '的', '錢', '包']\n",
      "['是', '不', '是', '要定', '期來', '舉辦']\n",
      "['聽起', '來', '好', '好', '玩天', '啊']\n",
      "['那', '我', '去', '探索', '一下']\n",
      "['什麼', '你', '說', '我', '是', '鬼']\n",
      "['沒有', '人', '是', '十全十美', '的']\n"
     ]
    }
   ],
   "source": [
    "print(len(cut_questions))\n",
    "print(len(cut_questions[0]))\n",
    "print(cut_questions[0][0])\n",
    "\n",
    "for i in range(1, 7):\n",
    "    print(cut_questions[0][i])"
   ]
  },
  {
   "cell_type": "code",
   "execution_count": 30,
   "metadata": {
    "collapsed": true
   },
   "outputs": [],
   "source": [
    "import numpy as np\n",
    "\n",
    "np.save('cut_Programs.npy', cut_programs)\n",
    "np.save('cut_Questions.npy', cut_questions)"
   ]
  },
  {
   "cell_type": "code",
   "execution_count": null,
   "metadata": {
    "collapsed": true
   },
   "outputs": [],
   "source": []
  }
 ],
 "metadata": {
  "kernelspec": {
   "display_name": "Python 3",
   "language": "python",
   "name": "python3"
  },
  "language_info": {
   "codemirror_mode": {
    "name": "ipython",
    "version": 3
   },
   "file_extension": ".py",
   "mimetype": "text/x-python",
   "name": "python",
   "nbconvert_exporter": "python",
   "pygments_lexer": "ipython3",
   "version": "3.6.3"
  }
 },
 "nbformat": 4,
 "nbformat_minor": 2
}
